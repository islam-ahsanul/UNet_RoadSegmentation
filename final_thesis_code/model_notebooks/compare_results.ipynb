{
 "cells": [
  {
   "cell_type": "code",
   "execution_count": null,
   "metadata": {},
   "outputs": [],
   "source": [
    "import numpy as np\n",
    "import matplotlib.pyplot as plt\n",
    "\n",
    "# Metric values for both models\n",
    "unet_scores = [0.94043, 0.85517, 0.80693, 0.85777, 0.87467]\n",
    "resunet_scores = [0.93023, 0.84332, 0.78827, 0.84541, 0.86580]\n",
    "\n",
    "metrics = [\"Accuracy\", \"F1 Score\", \"IoU\", \"Recall\", \"Precision\"]\n",
    "\n",
    "x = np.arange(len(metrics))  # Label locations\n",
    "width = 0.35  # Width of the bars\n",
    "\n",
    "plt.figure(figsize=(12, 6))\n",
    "plt.bar(x - width/2, unet_scores, width, label='U-Net', color='blue')\n",
    "plt.bar(x + width/2, resunet_scores, width, label='ResU-Net', color='orange')\n",
    "\n",
    "plt.xlabel(\"Metrics\")\n",
    "plt.ylabel(\"Score\")\n",
    "plt.title(\"U-Net vs ResU-Net Evaluation Metrics Comparison\")\n",
    "plt.xticks(x, metrics)\n",
    "plt.ylim(0, 1)\n",
    "plt.legend()\n",
    "plt.grid(axis=\"y\", linestyle=\"--\", alpha=0.7)\n",
    "\n",
    "# Show plot\n",
    "plt.show()\n"
   ]
  }
 ],
 "metadata": {
  "language_info": {
   "name": "python"
  }
 },
 "nbformat": 4,
 "nbformat_minor": 2
}
