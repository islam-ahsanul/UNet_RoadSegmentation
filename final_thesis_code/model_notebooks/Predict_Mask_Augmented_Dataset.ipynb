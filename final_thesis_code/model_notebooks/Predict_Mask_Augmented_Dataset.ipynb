{
 "cells": [
  {
   "cell_type": "markdown",
   "id": "ee8ce154",
   "metadata": {},
   "source": [
    "### Predicting Mask on Augmented Dataset\n",
    "\n",
    "1. Load Model\n",
    "2. Load Test Dataset - Images\n",
    "3. Predict Mask\n",
    "4. Calculate FPS"
   ]
  },
  {
   "cell_type": "code",
   "execution_count": 2,
   "id": "fa1c5f7a",
   "metadata": {},
   "outputs": [],
   "source": [
    "import os\n",
    "import time\n",
    "import numpy as np\n",
    "import cv2\n",
    "from glob import glob\n",
    "from tqdm import tqdm\n",
    "import tensorflow as tf"
   ]
  },
  {
   "cell_type": "markdown",
   "id": "b65207bc",
   "metadata": {},
   "source": [
    "#### Seeding"
   ]
  },
  {
   "cell_type": "code",
   "execution_count": 5,
   "id": "d624ca6e",
   "metadata": {},
   "outputs": [],
   "source": [
    "# Seeding\n",
    "os.environ[\"PYTHONHASHSEED\"] = str(42)\n",
    "np.random.seed(42)\n",
    "tf.random.set_seed(42)"
   ]
  },
  {
   "cell_type": "markdown",
   "id": "85c5caa8",
   "metadata": {},
   "source": [
    "#### Hyperparameters"
   ]
  },
  {
   "cell_type": "code",
   "execution_count": 4,
   "id": "5d8b33bd",
   "metadata": {},
   "outputs": [],
   "source": [
    "# Hyperparameters\n",
    "height = 768\n",
    "width = 512\n",
    "num_classes = 3"
   ]
  },
  {
   "cell_type": "markdown",
   "id": "edec4ff5",
   "metadata": {},
   "source": [
    "#### Path"
   ]
  },
  {
   "cell_type": "code",
   "execution_count": null,
   "id": "c09a3eb2",
   "metadata": {},
   "outputs": [],
   "source": [
    "# Paths\n",
    "dataset_path = \"/home/ahsan/University/Thesis/UNet_Directory/Datasets/second_phase/processed_dataset/aug/test\"\n",
    "save_path = \"/home/ahsan/University/Thesis/UNet_Directory/Datasets/second_phase/predicted_masks/aug\"\n",
    "model_path = \"/home/ahsan/University/Thesis/UNet_Directory/Datasets/second_phase/files/aug/unet-multiclass.h5\""
   ]
  },
  {
   "cell_type": "markdown",
   "id": "cd5832a9",
   "metadata": {},
   "source": [
    "#### Create Folder"
   ]
  },
  {
   "cell_type": "code",
   "execution_count": null,
   "id": "89269d04",
   "metadata": {},
   "outputs": [],
   "source": [
    "os.makedirs(save_path, exist_ok=True)"
   ]
  },
  {
   "cell_type": "markdown",
   "id": "36335f18",
   "metadata": {},
   "source": [
    "#### Folder to save the predicted masks"
   ]
  },
  {
   "cell_type": "code",
   "execution_count": null,
   "id": "22eb3005",
   "metadata": {},
   "outputs": [],
   "source": [
    "# create_dir(save_path)"
   ]
  },
  {
   "cell_type": "markdown",
   "id": "396d13d9",
   "metadata": {},
   "source": [
    "#### Load Model"
   ]
  },
  {
   "cell_type": "code",
   "execution_count": null,
   "id": "d593a913",
   "metadata": {},
   "outputs": [],
   "source": [
    "model = tf.keras.models.load_model(model_path)"
   ]
  },
  {
   "cell_type": "code",
   "execution_count": null,
   "id": "6bcfb16d",
   "metadata": {},
   "outputs": [],
   "source": [
    "model.summary()"
   ]
  },
  {
   "cell_type": "markdown",
   "id": "8f2006b3",
   "metadata": {},
   "source": [
    "#### Load Test Dataset: Images"
   ]
  },
  {
   "cell_type": "code",
   "execution_count": null,
   "id": "e5f25273",
   "metadata": {},
   "outputs": [],
   "source": [
    "test_x = sorted(glob(os.path.join(dataset_path, \"images\", \"*\")))\n",
    "\n",
    "# print(f\"Total test images: {len(test_x)}\")"
   ]
  },
  {
   "cell_type": "code",
   "execution_count": null,
   "id": "b77c400e",
   "metadata": {},
   "outputs": [],
   "source": [
    "# test_x[0]"
   ]
  },
  {
   "cell_type": "markdown",
   "id": "34ba4794",
   "metadata": {},
   "source": [
    "#### Predict the mask and calculate FPS"
   ]
  },
  {
   "cell_type": "code",
   "execution_count": null,
   "id": "6ac51573",
   "metadata": {},
   "outputs": [],
   "source": [
    "time_taken = []\n",
    "\n",
    "for x_path in tqdm(test_x, desc=\"Predicting Masks\"):\n",
    "    name = os.path.basename(x_path)\n",
    "    x = cv2.imread(x_path, cv2.IMREAD_COLOR)\n",
    "    x = x / 255.0\n",
    "    x = np.expand_dims(x, axis=0)\n",
    "\n",
    "    start_time = time.time()\n",
    "    p = model.predict(x)[0]\n",
    "    time_taken.append(time.time() - start_time)\n",
    "\n",
    "    p = np.argmax(p, axis=-1)  # Convert probabilities to class labels\n",
    "    p_colored = cv2.applyColorMap((p * 85).astype(np.uint8), cv2.COLORMAP_JET)  # Visualize classes\n",
    "\n",
    "    cv2.imwrite(os.path.join(save_path, name), p_colored)"
   ]
  },
  {
   "cell_type": "code",
   "execution_count": null,
   "id": "d22dc420",
   "metadata": {},
   "outputs": [],
   "source": [
    "# FPS Calculation\n",
    "mean_time = np.mean(time_taken)\n",
    "mean_fps = 1 / mean_time"
   ]
  },
  {
   "cell_type": "code",
   "execution_count": null,
   "id": "c8921b41",
   "metadata": {},
   "outputs": [],
   "source": [
    "print(f\"Mean time taken: {mean_time} seconds\")\n",
    "print(f\"Mean FPS: {mean_fps}\")"
   ]
  }
 ],
 "metadata": {
  "kernelspec": {
   "display_name": "base",
   "language": "python",
   "name": "python3"
  },
  "language_info": {
   "codemirror_mode": {
    "name": "ipython",
    "version": 3
   },
   "file_extension": ".py",
   "mimetype": "text/x-python",
   "name": "python",
   "nbconvert_exporter": "python",
   "pygments_lexer": "ipython3",
   "version": "3.12.2"
  }
 },
 "nbformat": 4,
 "nbformat_minor": 5
}
