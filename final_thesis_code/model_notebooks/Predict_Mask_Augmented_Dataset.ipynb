{
 "cells": [
  {
   "cell_type": "markdown",
   "id": "ee8ce154",
   "metadata": {},
   "source": [
    "### Predicting Mask on Augmented Dataset\n",
    "\n",
    "1. Load Model\n",
    "2. Load Test Dataset - Images\n",
    "3. Predict Mask\n",
    "4. Calculate FPS"
   ]
  },
  {
   "cell_type": "code",
   "execution_count": 2,
   "id": "fa1c5f7a",
   "metadata": {},
   "outputs": [],
   "source": [
    "import os\n",
    "import time\n",
    "import numpy as np\n",
    "import cv2\n",
    "from glob import glob\n",
    "from tqdm import tqdm\n",
    "import tensorflow as tf"
   ]
  },
  {
   "cell_type": "markdown",
   "id": "b65207bc",
   "metadata": {},
   "source": [
    "#### Seeding"
   ]
  },
  {
   "cell_type": "code",
   "execution_count": 5,
   "id": "d624ca6e",
   "metadata": {},
   "outputs": [],
   "source": [
    "# Seeding\n",
    "os.environ[\"PYTHONHASHSEED\"] = str(42)\n",
    "np.random.seed(42)\n",
    "tf.random.set_seed(42)"
   ]
  },
  {
   "cell_type": "markdown",
   "id": "85c5caa8",
   "metadata": {},
   "source": [
    "#### Hyperparameters"
   ]
  },
  {
   "cell_type": "code",
   "execution_count": 4,
   "id": "5d8b33bd",
   "metadata": {},
   "outputs": [],
   "source": [
    "# Hyperparameters\n",
    "height = 768\n",
    "width = 512\n",
    "num_classes = 3"
   ]
  },
  {
   "cell_type": "markdown",
   "id": "edec4ff5",
   "metadata": {},
   "source": [
    "#### Path"
   ]
  },
  {
   "cell_type": "code",
   "execution_count": null,
   "id": "c09a3eb2",
   "metadata": {},
   "outputs": [],
   "source": [
    "# Paths\n",
    "dataset_path = \"/home/ahsan/University/Thesis/UNet_Directory/Datasets/second_phase/processed_dataset/aug/test\"\n",
    "save_path = \"/home/ahsan/University/Thesis/UNet_Directory/Datasets/second_phase/predicted_masks/aug\"\n",
    "model_path = \"/home/ahsan/University/Thesis/UNet_Directory/Datasets/second_phase/files/aug/unet-multiclass.h5\""
   ]
  },
  {
   "cell_type": "markdown",
   "id": "cd5832a9",
   "metadata": {},
   "source": [
    "#### Create Folder"
   ]
  },
  {
   "cell_type": "code",
   "execution_count": null,
   "id": "89269d04",
   "metadata": {},
   "outputs": [],
   "source": [
    "os.makedirs(save_path, exist_ok=True)"
   ]
  },
  {
   "cell_type": "markdown",
   "id": "396d13d9",
   "metadata": {},
   "source": [
    "#### Load Model"
   ]
  },
  {
   "cell_type": "code",
   "execution_count": null,
   "id": "d593a913",
   "metadata": {},
   "outputs": [],
   "source": [
    "# Load Model\n",
    "model = tf.keras.models.load_model(model_path)"
   ]
  },
  {
   "cell_type": "code",
   "execution_count": null,
   "id": "6bcfb16d",
   "metadata": {},
   "outputs": [],
   "source": [
    "# model.summary()"
   ]
  },
  {
   "cell_type": "markdown",
   "id": "8f2006b3",
   "metadata": {},
   "source": [
    "#### Load Test Dataset: Images"
   ]
  },
  {
   "cell_type": "code",
   "execution_count": null,
   "id": "632b53bd",
   "metadata": {},
   "outputs": [],
   "source": [
    "# Define color map for visualization (BGR format)\n",
    "colors = {\n",
    "    0: (0, 0, 0),       # Non-Drivable Area (black)\n",
    "    1: (79, 247, 211),  # My Way (#d3f74f) in BGR\n",
    "    2: (247, 93, 79)    # Other Way (#4f5df7) in BGR\n",
    "}"
   ]
  },
  {
   "cell_type": "code",
   "execution_count": null,
   "id": "e5f25273",
   "metadata": {},
   "outputs": [],
   "source": [
    "# Load test images\n",
    "test_x = sorted(glob(os.path.join(dataset_path, \"images\", \"*\")))"
   ]
  },
  {
   "cell_type": "markdown",
   "id": "34ba4794",
   "metadata": {},
   "source": [
    "#### Predict the mask and calculate FPS"
   ]
  },
  {
   "cell_type": "code",
   "execution_count": null,
   "id": "6ac51573",
   "metadata": {},
   "outputs": [],
   "source": [
    "time_taken = []\n",
    "\n",
    "for x_path in tqdm(test_x, desc=\"Predicting Masks\"):\n",
    "    name = os.path.basename(x_path)\n",
    "    x = cv2.imread(x_path, cv2.IMREAD_COLOR)\n",
    "\n",
    "    if x is None:\n",
    "        print(f\"Error loading image {x_path}, skipping.\")\n",
    "        continue\n",
    "\n",
    "    x = cv2.resize(x, (width, height))\n",
    "    x = x / 255.0\n",
    "    x = np.expand_dims(x, axis=0)\n",
    "\n",
    "    start_time = time.time()\n",
    "    p = model.predict(x)[0]\n",
    "    time_taken.append(time.time() - start_time)\n",
    "\n",
    "    p = np.argmax(p, axis=-1)  # Convert probabilities to class labels\n",
    "\n",
    "    # Create a blank color mask\n",
    "    p_colored = np.zeros((height, width, 3), dtype=np.uint8)\n",
    "\n",
    "    # Assign colors based on class labels\n",
    "    for label, color in colors.items():\n",
    "        p_colored[p == label] = color\n",
    "\n",
    "    # Save predicted mask\n",
    "    cv2.imwrite(os.path.join(save_path, f\"{name.split('.')[0]}.png\"), p_colored)"
   ]
  },
  {
   "cell_type": "code",
   "execution_count": null,
   "id": "d22dc420",
   "metadata": {},
   "outputs": [],
   "source": [
    "# FPS Calculation\n",
    "mean_time = np.mean(time_taken)\n",
    "mean_fps = 1 / mean_time"
   ]
  },
  {
   "cell_type": "code",
   "execution_count": null,
   "id": "c8921b41",
   "metadata": {},
   "outputs": [],
   "source": [
    "print(f\"Mean time taken: {mean_time:.4f} seconds\")\n",
    "print(f\"Mean FPS: {mean_fps:.2f}\")"
   ]
  }
 ],
 "metadata": {
  "kernelspec": {
   "display_name": "base",
   "language": "python",
   "name": "python3"
  },
  "language_info": {
   "codemirror_mode": {
    "name": "ipython",
    "version": 3
   },
   "file_extension": ".py",
   "mimetype": "text/x-python",
   "name": "python",
   "nbconvert_exporter": "python",
   "pygments_lexer": "ipython3",
   "version": "3.12.2"
  }
 },
 "nbformat": 4,
 "nbformat_minor": 5
}
