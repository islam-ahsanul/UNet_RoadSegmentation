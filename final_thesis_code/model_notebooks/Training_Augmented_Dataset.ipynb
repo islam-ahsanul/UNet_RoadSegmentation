{
 "cells": [
  {
   "cell_type": "markdown",
   "id": "ebffb22d",
   "metadata": {},
   "source": [
    "### Training the UNet model on the original dataset\n"
   ]
  },
  {
   "cell_type": "code",
   "execution_count": 8,
   "id": "86d80e90",
   "metadata": {},
   "outputs": [],
   "source": [
    "import os\n",
    "import numpy as np\n",
    "import cv2\n",
    "import tensorflow as tf\n",
    "from glob import glob\n",
    "from tensorflow.keras.layers import (\n",
    "    Conv2D, BatchNormalization, MaxPooling2D, UpSampling2D, concatenate,\n",
    "    Activation, Conv2DTranspose, Input\n",
    ")\n",
    "from tensorflow.keras.models import Model\n",
    "from tensorflow.keras.callbacks import EarlyStopping, ModelCheckpoint, ReduceLROnPlateau, CSVLogger"
   ]
  },
  {
   "cell_type": "markdown",
   "id": "3ce14344",
   "metadata": {},
   "source": [
    "### Seeding"
   ]
  },
  {
   "cell_type": "code",
   "execution_count": 9,
   "id": "fcf094bb",
   "metadata": {},
   "outputs": [],
   "source": [
    "# Seeding for reproducibility\n",
    "os.environ[\"PYTHONHASHSEED\"] = str(42)\n",
    "np.random.seed(42)\n",
    "tf.random.set_seed(42)"
   ]
  },
  {
   "cell_type": "markdown",
   "id": "cbcac637",
   "metadata": {},
   "source": [
    "### Hyperparameters"
   ]
  },
  {
   "cell_type": "code",
   "execution_count": 10,
   "id": "3fafb186",
   "metadata": {},
   "outputs": [],
   "source": [
    "# Hyperparameters\n",
    "batch_size = 8\n",
    "lr = 1e-4\n",
    "epochs = 100\n",
    "height = 768\n",
    "width = 512\n",
    "num_classes = 3  # \"My Way\", \"Other Way\", \"Non-Drivable Area\""
   ]
  },
  {
   "cell_type": "markdown",
   "id": "e0dd5af5",
   "metadata": {},
   "source": [
    "### Path"
   ]
  },
  {
   "cell_type": "code",
   "execution_count": 12,
   "id": "ca42e2c9",
   "metadata": {},
   "outputs": [],
   "source": [
    "# Paths\n",
    "dataset_path = \"/home/ahsan/University/Thesis/UNet_Directory/Datasets/second_phase/processed_dataset/aug\"\n",
    "files_dir = \"/home/ahsan/University/Thesis/UNet_Directory/Datasets/second_phase/files\"\n",
    "model_file = os.path.join(files_dir, \"unet-multiclass.h5\")\n",
    "log_file = os.path.join(files_dir, \"log-multiclass.csv\")"
   ]
  },
  {
   "cell_type": "markdown",
   "id": "3ad2789d",
   "metadata": {},
   "source": [
    "### Creating folder"
   ]
  },
  {
   "cell_type": "code",
   "execution_count": 11,
   "id": "5e850212",
   "metadata": {},
   "outputs": [],
   "source": [
    "# Ensure directories exist\n",
    "os.makedirs(files_dir, exist_ok=True)\n",
    "if not os.path.exists(dataset_path):\n",
    "    raise FileNotFoundError(f\"Dataset path {dataset_path} does not exist.\")"
   ]
  },
  {
   "cell_type": "code",
   "execution_count": 13,
   "id": "79326c55",
   "metadata": {},
   "outputs": [],
   "source": [
    "# create_dir(files_dir)"
   ]
  },
  {
   "cell_type": "markdown",
   "id": "f8381fee",
   "metadata": {},
   "source": [
    "### UNET (same code as implementation notebook)\n"
   ]
  },
  {
   "cell_type": "markdown",
   "id": "20be9580",
   "metadata": {},
   "source": [
    "#### Convolutional Block"
   ]
  },
  {
   "cell_type": "code",
   "execution_count": 15,
   "id": "3e468980",
   "metadata": {},
   "outputs": [],
   "source": [
    "def conv_block(inputs, num_filters):\n",
    "    x = Conv2D(num_filters, 3, padding=\"same\")(inputs)\n",
    "    x = BatchNormalization()(x)\n",
    "    x = Activation(\"relu\")(x)\n",
    "\n",
    "    x = Conv2D(num_filters, 3, padding=\"same\")(x)\n",
    "    x = BatchNormalization()(x)\n",
    "    x = Activation(\"relu\")(x)\n",
    "    return x"
   ]
  },
  {
   "cell_type": "markdown",
   "id": "ca8fd00b",
   "metadata": {},
   "source": [
    "#### Encoder Block"
   ]
  },
  {
   "cell_type": "code",
   "execution_count": 14,
   "id": "e62f146c",
   "metadata": {},
   "outputs": [],
   "source": [
    "def encoder_block(inputs, num_filters):\n",
    "    x = conv_block(inputs, num_filters)\n",
    "    p = MaxPooling2D((2, 2))(x)\n",
    "    return x, p"
   ]
  },
  {
   "cell_type": "markdown",
   "id": "10f74f09",
   "metadata": {},
   "source": [
    "### Decoder Block"
   ]
  },
  {
   "cell_type": "code",
   "execution_count": 16,
   "id": "d676df1e",
   "metadata": {},
   "outputs": [],
   "source": [
    "def decoder_block(inputs, skip, num_filters):\n",
    "    x = Conv2DTranspose(num_filters, (2, 2), strides=2, padding=\"same\")(inputs)\n",
    "    x = concatenate([x, skip])\n",
    "    x = conv_block(x, num_filters)\n",
    "    return x"
   ]
  },
  {
   "cell_type": "markdown",
   "id": "47d8df24",
   "metadata": {},
   "source": [
    "### UNet Model"
   ]
  },
  {
   "cell_type": "code",
   "execution_count": 17,
   "id": "e2ae9764",
   "metadata": {},
   "outputs": [],
   "source": [
    "def build_unet(input_shape, num_classes):\n",
    "    inputs = Input(input_shape)\n",
    "\n",
    "    # Encoder\n",
    "    s1, p1 = encoder_block(inputs, 64)\n",
    "    s2, p2 = encoder_block(p1, 128)\n",
    "    s3, p3 = encoder_block(p2, 256)\n",
    "    s4, p4 = encoder_block(p3, 512)\n",
    "\n",
    "    # Bridge\n",
    "    b1 = conv_block(p4, 1024)\n",
    "\n",
    "    # Decoder\n",
    "    d1 = decoder_block(b1, s4, 512)\n",
    "    d2 = decoder_block(d1, s3, 256)\n",
    "    d3 = decoder_block(d2, s2, 128)\n",
    "    d4 = decoder_block(d3, s1, 64)\n",
    "\n",
    "    outputs = Conv2D(num_classes, 1, padding=\"same\", activation=\"softmax\")(d4)\n",
    "    model = Model(inputs, outputs, name=\"UNET\")"
   ]
  },
  {
   "cell_type": "markdown",
   "id": "132b4cb4",
   "metadata": {},
   "source": [
    "### Dataset Pipeline"
   ]
  },
  {
   "cell_type": "markdown",
   "id": "e3e2bc41",
   "metadata": {},
   "source": [
    "#### Loading the training and validation dataset"
   ]
  },
  {
   "cell_type": "code",
   "execution_count": null,
   "id": "69c42412",
   "metadata": {},
   "outputs": [],
   "source": [
    "# Dataset Loading\n",
    "def load_data(path):\n",
    "    train_x = sorted(glob(os.path.join(path, \"train\", \"images\", \"*\")))\n",
    "    train_y = sorted(glob(os.path.join(path, \"train\", \"masks\", \"*\")))\n",
    "    valid_x = sorted(glob(os.path.join(path, \"valid\", \"images\", \"*\")))\n",
    "    valid_y = sorted(glob(os.path.join(path, \"valid\", \"masks\", \"*\")))\n",
    "    return (train_x, train_y), (valid_x, valid_y)"
   ]
  },
  {
   "cell_type": "markdown",
   "id": "25d40dc4",
   "metadata": {},
   "source": [
    "#### Reading the images"
   ]
  },
  {
   "cell_type": "code",
   "execution_count": null,
   "id": "b390616c",
   "metadata": {},
   "outputs": [],
   "source": [
    "# Preprocessing Functions\n",
    "def read_image(path):\n",
    "    path = path.decode()\n",
    "    x = cv2.imread(path, cv2.IMREAD_COLOR)\n",
    "    x = cv2.resize(x, (width, height))  # Ensure the correct image size\n",
    "    x = x / 255.0\n",
    "    return x.astype(np.float32)"
   ]
  },
  {
   "cell_type": "markdown",
   "id": "c77ce6bc",
   "metadata": {},
   "source": [
    "#### Reading the masks"
   ]
  },
  {
   "cell_type": "code",
   "execution_count": null,
   "id": "d8bb120b",
   "metadata": {},
   "outputs": [],
   "source": [
    "def read_mask(path):\n",
    "    path = path.decode()\n",
    "    x = cv2.imread(path, cv2.IMREAD_GRAYSCALE)\n",
    "    x = cv2.resize(x, (width, height))\n",
    "    x = np.clip(x, 0, num_classes - 1).astype(np.int32)  # Ensure valid class values\n",
    "    x = tf.one_hot(x, num_classes)\n",
    "    return x.numpy().astype(np.float32)"
   ]
  },
  {
   "cell_type": "markdown",
   "id": "596bc328",
   "metadata": {},
   "source": [
    "#### tf.data pipeline"
   ]
  },
  {
   "cell_type": "code",
   "execution_count": null,
   "id": "590b9498",
   "metadata": {},
   "outputs": [],
   "source": [
    "def tf_parse(x, y):\n",
    "    def _parse(x, y):\n",
    "        x = read_image(x)\n",
    "        y = read_mask(y)\n",
    "        return x, y\n",
    "\n",
    "    x, y = tf.numpy_function(_parse, [x, y], [tf.float32, tf.float32])\n",
    "    x.set_shape([height, width, 3])\n",
    "    y.set_shape([height, width, num_classes])\n",
    "    return x, y\n"
   ]
  },
  {
   "cell_type": "code",
   "execution_count": null,
   "id": "a5e022b6",
   "metadata": {},
   "outputs": [],
   "source": [
    "def tf_dataset(x, y, batch=8):\n",
    "    dataset = tf.data.Dataset.from_tensor_slices((x, y))\n",
    "    dataset = dataset.map(tf_parse, num_parallel_calls=tf.data.AUTOTUNE)\n",
    "    dataset = dataset.batch(batch, drop_remainder=True)\n",
    "    dataset = dataset.prefetch(tf.data.AUTOTUNE)\n",
    "    return dataset"
   ]
  },
  {
   "cell_type": "code",
   "execution_count": null,
   "id": "85388160",
   "metadata": {},
   "outputs": [],
   "source": [
    "# IoU Metric\n",
    "def iou_metric(y_true, y_pred):\n",
    "    y_pred = tf.argmax(y_pred, axis=-1)\n",
    "    y_true = tf.argmax(y_true, axis=-1)\n",
    "    intersection = tf.reduce_sum(y_true * y_pred)\n",
    "    union = tf.reduce_sum(y_true) + tf.reduce_sum(y_pred) - intersection\n",
    "    return intersection / (union + tf.keras.backend.epsilon())"
   ]
  },
  {
   "cell_type": "markdown",
   "id": "f3e6feed",
   "metadata": {},
   "source": [
    "### Training"
   ]
  },
  {
   "cell_type": "code",
   "execution_count": null,
   "id": "c27376ff",
   "metadata": {},
   "outputs": [],
   "source": [
    "# Load dataset\n",
    "(train_x, train_y), (valid_x, valid_y) = load_data(dataset_path)\n",
    "\n",
    "print(f\"Train: {len(train_x)} - {len(train_y)}\")\n",
    "print(f\"Valid: {len(valid_x)} - {len(valid_y)}\")"
   ]
  },
  {
   "cell_type": "code",
   "execution_count": null,
   "id": "379d3613",
   "metadata": {},
   "outputs": [],
   "source": [
    "train_dataset = tf_dataset(train_x, train_y, batch=batch_size)\n",
    "valid_dataset = tf_dataset(valid_x, valid_y, batch=batch_size)"
   ]
  },
  {
   "cell_type": "code",
   "execution_count": null,
   "id": "55233840",
   "metadata": {},
   "outputs": [],
   "source": [
    "# Build model\n",
    "input_shape = (height, width, 3)\n",
    "model = build_unet(input_shape, num_classes)\n",
    "# model.summary()"
   ]
  },
  {
   "cell_type": "code",
   "execution_count": null,
   "id": "ad4f1f44",
   "metadata": {},
   "outputs": [],
   "source": [
    "# Learning rate scheduling\n",
    "lr_schedule = tf.keras.optimizers.schedules.ExponentialDecay(\n",
    "    initial_learning_rate=lr, decay_steps=10000, decay_rate=0.9\n",
    ")"
   ]
  },
  {
   "cell_type": "code",
   "execution_count": null,
   "id": "de205185",
   "metadata": {},
   "outputs": [],
   "source": [
    "model.compile(\n",
    "    loss=\"categorical_crossentropy\",\n",
    "    optimizer=tf.keras.optimizers.Adam(learning_rate=lr_schedule),\n",
    "    metrics=[\"accuracy\", iou_metric]\n",
    ")"
   ]
  },
  {
   "cell_type": "code",
   "execution_count": null,
   "id": "7e1a79fe",
   "metadata": {},
   "outputs": [],
   "source": [
    "# Callbacks\n",
    "callbacks = [\n",
    "    ModelCheckpoint(model_file, verbose=1, save_best_only=True),\n",
    "    ReduceLROnPlateau(monitor=\"val_loss\", factor=0.1, patience=4),\n",
    "    CSVLogger(log_file),\n",
    "    EarlyStopping(monitor=\"val_loss\", patience=20, restore_best_weights=True),\n",
    "]"
   ]
  },
  {
   "cell_type": "code",
   "execution_count": null,
   "id": "9ae6379b",
   "metadata": {},
   "outputs": [],
   "source": [
    "# Train the model\n",
    "model.fit(\n",
    "    train_dataset,\n",
    "    validation_data=valid_dataset,\n",
    "    epochs=epochs,\n",
    "    callbacks=callbacks\n",
    ")\n",
    "\n",
    "print(\"Training complete. Model saved at:\", model_file)"
   ]
  }
 ],
 "metadata": {
  "kernelspec": {
   "display_name": "Python 3 (ipykernel)",
   "language": "python",
   "name": "python3"
  },
  "language_info": {
   "codemirror_mode": {
    "name": "ipython",
    "version": 3
   },
   "file_extension": ".py",
   "mimetype": "text/x-python",
   "name": "python",
   "nbconvert_exporter": "python",
   "pygments_lexer": "ipython3",
   "version": "3.12.2"
  }
 },
 "nbformat": 4,
 "nbformat_minor": 5
}
