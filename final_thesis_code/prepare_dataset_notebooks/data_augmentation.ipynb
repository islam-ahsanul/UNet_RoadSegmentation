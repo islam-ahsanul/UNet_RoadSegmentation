{
 "cells": [
  {
   "cell_type": "markdown",
   "id": "b916d382",
   "metadata": {},
   "source": [
    "### Data processing\n",
    "\n",
    "1. Dataset loading: images and masks\n",
    "2. Dataset splitting:\n",
    "   1. Taining set\n",
    "   2. Validation set\n",
    "   3. Test set\n",
    "3. Data augmentation\n",
    "4. Save the dataset"
   ]
  },
  {
   "cell_type": "code",
   "execution_count": 16,
   "id": "b6109d7a",
   "metadata": {},
   "outputs": [],
   "source": [
    "import os\n",
    "import numpy as np\n",
    "import cv2\n",
    "from glob import glob\n",
    "from tqdm import tqdm\n",
    "from albumentations import ( Compose, RandomBrightnessContrast, RandomRain, RandomFog, RandomSunFlare, CoarseDropout )\n",
    "\n",
    "# import os\n",
    "# import numpy as np\n",
    "# import cv2\n",
    "# from glob import glob\n",
    "# from tqdm import tqdm\n",
    "# from albumentations.augmentations.transforms import (\n",
    "#     RandomBrightnessContrast, RandomRain, RandomFog, RandomSunFlare,\n",
    "#     CoarseDropout\n",
    "# )"
   ]
  },
  {
   "cell_type": "markdown",
   "id": "2ae9e81a",
   "metadata": {},
   "source": [
    "### Dataset loading: images and masks"
   ]
  },
  {
   "cell_type": "code",
   "execution_count": 17,
   "id": "7ecb48f1",
   "metadata": {},
   "outputs": [],
   "source": [
    "def load_training_data(path):\n",
    "    \"\"\"\n",
    "    Load images and masks from the training directory.\n",
    "    \"\"\"\n",
    "    images = sorted(glob(os.path.join(path, 'train/images', '*.png')))\n",
    "    masks = sorted(glob(os.path.join(path, 'train/masks', '*.png')))\n",
    "\n",
    "    if not images or not masks:\n",
    "        raise ValueError(\"No images or masks found. Check your dataset paths.\")\n",
    "    \n",
    "    return images, masks"
   ]
  },
  {
   "cell_type": "code",
   "execution_count": 22,
   "id": "b50a3323",
   "metadata": {},
   "outputs": [],
   "source": [
    "def augment_training_data(images, masks, save_dir):\n",
    "    \"\"\"\n",
    "    Apply augmentations to the training dataset and save the augmented dataset separately,\n",
    "    ensuring that the mask values are preserved.\n",
    "    \"\"\"\n",
    "\n",
    "    augmentation_list = [\n",
    "        (\"brightness_contrast\", RandomBrightnessContrast(p=1.0)),\n",
    "        (\"rain\", RandomRain(p=1.0)),\n",
    "        (\"fog\", RandomFog(p=1.0)),\n",
    "        (\"sunflare\", RandomSunFlare(p=1.0)),\n",
    "        (\"coarsedropout\", CoarseDropout(p=1.0, max_holes=10, max_height=32, max_width=32)),\n",
    "    ]\n",
    "\n",
    "    for img_path, mask_path in tqdm(zip(images, masks), total=len(images), desc=\"Augmenting training data\"):\n",
    "        img_name = os.path.basename(img_path).split('.')[0]\n",
    "\n",
    "        img = cv2.imread(img_path, cv2.IMREAD_COLOR)\n",
    "        mask = cv2.imread(mask_path, cv2.IMREAD_GRAYSCALE)  # Load mask as grayscale\n",
    "\n",
    "        if img is not None and mask is not None:\n",
    "            for aug_name, aug in augmentation_list:\n",
    "                # Apply augmentation and preserve mask values\n",
    "                augmented = Compose([aug], additional_targets={'mask': 'mask'})(image=img, mask=mask)\n",
    "                aug_img, aug_mask = augmented['image'], augmented['mask']\n",
    "\n",
    "                # Ensure mask values are preserved correctly after augmentation\n",
    "                unique_before = np.unique(mask)\n",
    "                unique_after = np.unique(aug_mask)\n",
    "                print(f\"Mask {img_name} - {aug_name}: Before {unique_before}, After {unique_after}\")\n",
    "\n",
    "                # Save augmented images and masks separately with original grayscale values\n",
    "                cv2.imwrite(os.path.join(save_dir, 'images', f\"{img_name}_{aug_name}.png\"), aug_img)\n",
    "                cv2.imwrite(os.path.join(save_dir, 'masks', f\"{img_name}_{aug_name}.png\"), aug_mask, [cv2.IMWRITE_PNG_COMPRESSION, 0])\n",
    "\n",
    "# Execute augmentation"
   ]
  },
  {
   "cell_type": "code",
   "execution_count": 24,
   "id": "8423cd47",
   "metadata": {},
   "outputs": [],
   "source": [
    "# Execute augmentation\n",
    "dataset_path = '/home/ahsan/University/Thesis/UNet_Directory/Datasets/second_phase/processed_dataset/aug'\n",
    "train_images, train_masks = load_training_data(dataset_path)"
   ]
  },
  {
   "cell_type": "code",
   "execution_count": 25,
   "id": "66625497",
   "metadata": {},
   "outputs": [],
   "source": [
    "# Save augmented training data\n",
    "augmented_dir = os.path.join(dataset_path, 'train')\n",
    "os.makedirs(os.path.join(augmented_dir, 'images'), exist_ok=True)\n",
    "os.makedirs(os.path.join(augmented_dir, 'masks'), exist_ok=True)"
   ]
  },
  {
   "cell_type": "code",
   "execution_count": 26,
   "id": "581dc31a",
   "metadata": {},
   "outputs": [
    {
     "name": "stderr",
     "output_type": "stream",
     "text": [
      "/tmp/ipykernel_15638/3834342246.py:12: UserWarning: Argument 'max_holes' is not valid and will be ignored.\n",
      "  (\"coarsedropout\", CoarseDropout(p=1.0, max_holes=10, max_height=32, max_width=32)),\n",
      "/tmp/ipykernel_15638/3834342246.py:12: UserWarning: Argument 'max_height' is not valid and will be ignored.\n",
      "  (\"coarsedropout\", CoarseDropout(p=1.0, max_holes=10, max_height=32, max_width=32)),\n",
      "/tmp/ipykernel_15638/3834342246.py:12: UserWarning: Argument 'max_width' is not valid and will be ignored.\n",
      "  (\"coarsedropout\", CoarseDropout(p=1.0, max_holes=10, max_height=32, max_width=32)),\n",
      "Augmenting training data:   0%|          | 0/74 [00:00<?, ?it/s]"
     ]
    },
    {
     "name": "stdout",
     "output_type": "stream",
     "text": [
      "Mask 0002 - brightness_contrast: Before [  0 128 255], After [  0 128 255]\n",
      "Mask 0002 - rain: Before [  0 128 255], After [  0 128 255]\n",
      "Mask 0002 - fog: Before [  0 128 255], After [  0 128 255]\n",
      "Mask 0002 - sunflare: Before [  0 128 255], After [  0 128 255]\n",
      "Mask 0002 - coarsedropout: Before [  0 128 255], After [  0 128 255]\n"
     ]
    },
    {
     "name": "stderr",
     "output_type": "stream",
     "text": [
      "Augmenting training data:   3%|▎         | 2/74 [00:00<00:13,  5.38it/s]"
     ]
    },
    {
     "name": "stdout",
     "output_type": "stream",
     "text": [
      "Mask 0003 - brightness_contrast: Before [  0 128 255], After [  0 128 255]\n",
      "Mask 0003 - rain: Before [  0 128 255], After [  0 128 255]\n",
      "Mask 0003 - fog: Before [  0 128 255], After [  0 128 255]\n",
      "Mask 0003 - sunflare: Before [  0 128 255], After [  0 128 255]\n",
      "Mask 0003 - coarsedropout: Before [  0 128 255], After [  0 128 255]\n",
      "Mask 0004 - brightness_contrast: Before [  0 128 255], After [  0 128 255]\n",
      "Mask 0004 - rain: Before [  0 128 255], After [  0 128 255]\n"
     ]
    },
    {
     "name": "stderr",
     "output_type": "stream",
     "text": [
      "Augmenting training data:   4%|▍         | 3/74 [00:00<00:13,  5.36it/s]"
     ]
    },
    {
     "name": "stdout",
     "output_type": "stream",
     "text": [
      "Mask 0004 - fog: Before [  0 128 255], After [  0 128 255]\n",
      "Mask 0004 - sunflare: Before [  0 128 255], After [  0 128 255]\n",
      "Mask 0004 - coarsedropout: Before [  0 128 255], After [  0 128 255]\n",
      "Mask 0006 - brightness_contrast: Before [  0 128 255], After [  0 128 255]\n",
      "Mask 0006 - rain: Before [  0 128 255], After [  0 128 255]\n",
      "Mask 0006 - fog: Before [  0 128 255], After [  0 128 255]\n"
     ]
    },
    {
     "name": "stderr",
     "output_type": "stream",
     "text": [
      "Augmenting training data:   7%|▋         | 5/74 [00:00<00:11,  6.09it/s]"
     ]
    },
    {
     "name": "stdout",
     "output_type": "stream",
     "text": [
      "Mask 0006 - sunflare: Before [  0 128 255], After [  0 128 255]\n",
      "Mask 0006 - coarsedropout: Before [  0 128 255], After [  0 128 255]\n",
      "Mask 0007 - brightness_contrast: Before [  0 128 255], After [  0 128 255]\n",
      "Mask 0007 - rain: Before [  0 128 255], After [  0 128 255]\n",
      "Mask 0007 - fog: Before [  0 128 255], After [  0 128 255]\n",
      "Mask 0007 - sunflare: Before [  0 128 255], After [  0 128 255]\n",
      "Mask 0007 - coarsedropout: Before [  0 128 255], After [  0 128 255]\n",
      "Mask 0009 - brightness_contrast: Before [  0 128 255], After [  0 128 255]\n"
     ]
    },
    {
     "name": "stderr",
     "output_type": "stream",
     "text": [
      "Augmenting training data:   8%|▊         | 6/74 [00:01<00:10,  6.40it/s]"
     ]
    },
    {
     "name": "stdout",
     "output_type": "stream",
     "text": [
      "Mask 0009 - rain: Before [  0 128 255], After [  0 128 255]\n",
      "Mask 0009 - fog: Before [  0 128 255], After [  0 128 255]\n",
      "Mask 0009 - sunflare: Before [  0 128 255], After [  0 128 255]\n",
      "Mask 0009 - coarsedropout: Before [  0 128 255], After [  0 128 255]\n",
      "Mask 0015 - brightness_contrast: Before [  0 128 255], After [  0 128 255]\n",
      "Mask 0015 - rain: Before [  0 128 255], After [  0 128 255]\n",
      "Mask 0015 - fog: Before [  0 128 255], After [  0 128 255]\n"
     ]
    },
    {
     "name": "stderr",
     "output_type": "stream",
     "text": [
      "Augmenting training data:   9%|▉         | 7/74 [00:01<00:10,  6.20it/s]"
     ]
    },
    {
     "name": "stdout",
     "output_type": "stream",
     "text": [
      "Mask 0015 - sunflare: Before [  0 128 255], After [  0 128 255]\n",
      "Mask 0015 - coarsedropout: Before [  0 128 255], After [  0 128 255]\n",
      "Mask 0017 - brightness_contrast: Before [  0 128 255], After [  0 128 255]\n",
      "Mask 0017 - rain: Before [  0 128 255], After [  0 128 255]\n",
      "Mask 0017 - fog: Before [  0 128 255], After [  0 128 255]\n",
      "Mask 0017 - sunflare: Before [  0 128 255], After [  0 128 255]\n",
      "Mask 0017 - coarsedropout: Before [  0 128 255], After [  0 128 255]\n"
     ]
    },
    {
     "name": "stderr",
     "output_type": "stream",
     "text": [
      "Augmenting training data:  12%|█▏        | 9/74 [00:01<00:10,  6.04it/s]"
     ]
    },
    {
     "name": "stdout",
     "output_type": "stream",
     "text": [
      "Mask 0018 - brightness_contrast: Before [  0 128 255], After [  0 128 255]\n",
      "Mask 0018 - rain: Before [  0 128 255], After [  0 128 255]\n",
      "Mask 0018 - fog: Before [  0 128 255], After [  0 128 255]\n",
      "Mask 0018 - sunflare: Before [  0 128 255], After [  0 128 255]\n",
      "Mask 0018 - coarsedropout: Before [  0 128 255], After [  0 128 255]\n",
      "Mask 0020 - brightness_contrast: Before [  0 128 255], After [  0 128 255]\n",
      "Mask 0020 - rain: Before [  0 128 255], After [  0 128 255]\n"
     ]
    },
    {
     "name": "stderr",
     "output_type": "stream",
     "text": [
      "Augmenting training data:  14%|█▎        | 10/74 [00:01<00:10,  6.12it/s]"
     ]
    },
    {
     "name": "stdout",
     "output_type": "stream",
     "text": [
      "Mask 0020 - fog: Before [  0 128 255], After [  0 128 255]\n",
      "Mask 0020 - sunflare: Before [  0 128 255], After [  0 128 255]\n",
      "Mask 0020 - coarsedropout: Before [  0 128 255], After [  0 128 255]\n",
      "Mask 0021 - brightness_contrast: Before [  0 128 255], After [  0 128 255]\n",
      "Mask 0021 - rain: Before [  0 128 255], After [  0 128 255]\n",
      "Mask 0021 - fog: Before [  0 128 255], After [  0 128 255]\n"
     ]
    },
    {
     "name": "stderr",
     "output_type": "stream",
     "text": [
      "Augmenting training data:  16%|█▌        | 12/74 [00:01<00:10,  6.18it/s]"
     ]
    },
    {
     "name": "stdout",
     "output_type": "stream",
     "text": [
      "Mask 0021 - sunflare: Before [  0 128 255], After [  0 128 255]\n",
      "Mask 0021 - coarsedropout: Before [  0 128 255], After [  0 128 255]\n",
      "Mask 0022 - brightness_contrast: Before [  0 128 255], After [  0 128 255]\n",
      "Mask 0022 - rain: Before [  0 128 255], After [  0 128 255]\n",
      "Mask 0022 - fog: Before [  0 128 255], After [  0 128 255]\n",
      "Mask 0022 - sunflare: Before [  0 128 255], After [  0 128 255]\n",
      "Mask 0022 - coarsedropout: Before [  0 128 255], After [  0 128 255]\n"
     ]
    },
    {
     "name": "stderr",
     "output_type": "stream",
     "text": [
      "Augmenting training data:  18%|█▊        | 13/74 [00:02<00:10,  5.76it/s]"
     ]
    },
    {
     "name": "stdout",
     "output_type": "stream",
     "text": [
      "Mask 0023 - brightness_contrast: Before [  0 128 255], After [  0 128 255]\n",
      "Mask 0023 - rain: Before [  0 128 255], After [  0 128 255]\n",
      "Mask 0023 - fog: Before [  0 128 255], After [  0 128 255]\n",
      "Mask 0023 - sunflare: Before [  0 128 255], After [  0 128 255]\n",
      "Mask 0023 - coarsedropout: Before [  0 128 255], After [  0 128 255]\n",
      "Mask 0024 - brightness_contrast: Before [  0 128 255], After [  0 128 255]\n"
     ]
    },
    {
     "name": "stderr",
     "output_type": "stream",
     "text": [
      "Augmenting training data:  19%|█▉        | 14/74 [00:02<00:09,  6.20it/s]"
     ]
    },
    {
     "name": "stdout",
     "output_type": "stream",
     "text": [
      "Mask 0024 - rain: Before [  0 128 255], After [  0 128 255]\n",
      "Mask 0024 - fog: Before [  0 128 255], After [  0 128 255]\n",
      "Mask 0024 - sunflare: Before [  0 128 255], After [  0 128 255]\n",
      "Mask 0024 - coarsedropout: Before [  0 128 255], After [  0 128 255]\n",
      "Mask 0025 - brightness_contrast: Before [  0 128 255], After [  0 128 255]\n",
      "Mask 0025 - rain: Before [  0 128 255], After [  0 128 255]\n",
      "Mask 0025 - fog: Before [  0 128 255], After [  0 128 255]\n",
      "Mask 0025 - sunflare: Before [  0 128 255], After [  0 128 255]\n"
     ]
    },
    {
     "name": "stderr",
     "output_type": "stream",
     "text": [
      "Augmenting training data:  22%|██▏       | 16/74 [00:02<00:08,  7.04it/s]"
     ]
    },
    {
     "name": "stdout",
     "output_type": "stream",
     "text": [
      "Mask 0025 - coarsedropout: Before [  0 128 255], After [  0 128 255]\n",
      "Mask 0026 - brightness_contrast: Before [  0 128 255], After [  0 128 255]\n",
      "Mask 0026 - rain: Before [  0 128 255], After [  0 128 255]\n",
      "Mask 0026 - fog: Before [  0 128 255], After [  0 128 255]\n",
      "Mask 0026 - sunflare: Before [  0 128 255], After [  0 128 255]\n",
      "Mask 0026 - coarsedropout: Before [  0 128 255], After [  0 128 255]\n",
      "Mask 0028 - brightness_contrast: Before [  0 128 255], After [  0 128 255]\n",
      "Mask 0028 - rain: Before [  0 128 255], After [  0 128 255]\n",
      "Mask 0028 - fog: Before [  0 128 255], After [  0 128 255]\n"
     ]
    },
    {
     "name": "stderr",
     "output_type": "stream",
     "text": [
      "Augmenting training data:  24%|██▍       | 18/74 [00:02<00:07,  7.78it/s]"
     ]
    },
    {
     "name": "stdout",
     "output_type": "stream",
     "text": [
      "Mask 0028 - sunflare: Before [  0 128 255], After [  0 128 255]\n",
      "Mask 0028 - coarsedropout: Before [  0 128 255], After [  0 128 255]\n",
      "Mask 0029 - brightness_contrast: Before [  0 128 255], After [  0 128 255]\n",
      "Mask 0029 - rain: Before [  0 128 255], After [  0 128 255]\n",
      "Mask 0029 - fog: Before [  0 128 255], After [  0 128 255]\n",
      "Mask 0029 - sunflare: Before [  0 128 255], After [  0 128 255]\n",
      "Mask 0029 - coarsedropout: Before [  0 128 255], After [  0 128 255]\n",
      "Mask 0030 - brightness_contrast: Before [  0 128 255], After [  0 128 255]\n",
      "Mask 0030 - rain: Before [  0 128 255], After [  0 128 255]\n",
      "Mask 0030 - fog: Before [  0 128 255], After [  0 128 255]\n"
     ]
    },
    {
     "name": "stderr",
     "output_type": "stream",
     "text": [
      "Augmenting training data:  27%|██▋       | 20/74 [00:03<00:06,  7.99it/s]"
     ]
    },
    {
     "name": "stdout",
     "output_type": "stream",
     "text": [
      "Mask 0030 - sunflare: Before [  0 128 255], After [  0 128 255]\n",
      "Mask 0030 - coarsedropout: Before [  0 128 255], After [  0 128 255]\n",
      "Mask 0031 - brightness_contrast: Before [  0 128 255], After [  0 128 255]\n",
      "Mask 0031 - rain: Before [  0 128 255], After [  0 128 255]\n",
      "Mask 0031 - fog: Before [  0 128 255], After [  0 128 255]\n",
      "Mask 0031 - sunflare: Before [  0 128 255], After [  0 128 255]\n",
      "Mask 0031 - coarsedropout: Before [  0 128 255], After [  0 128 255]\n",
      "Mask 0032 - brightness_contrast: Before [  0 128 255], After [  0 128 255]\n",
      "Mask 0032 - rain: Before [  0 128 255], After [  0 128 255]\n"
     ]
    },
    {
     "name": "stderr",
     "output_type": "stream",
     "text": [
      "Augmenting training data:  28%|██▊       | 21/74 [00:03<00:07,  7.35it/s]"
     ]
    },
    {
     "name": "stdout",
     "output_type": "stream",
     "text": [
      "Mask 0032 - fog: Before [  0 128 255], After [  0 128 255]\n",
      "Mask 0032 - sunflare: Before [  0 128 255], After [  0 128 255]\n",
      "Mask 0032 - coarsedropout: Before [  0 128 255], After [  0 128 255]\n",
      "Mask 0033 - brightness_contrast: Before [  0 128 255], After [  0 128 255]\n",
      "Mask 0033 - rain: Before [  0 128 255], After [  0 128 255]\n",
      "Mask 0033 - fog: Before [  0 128 255], After [  0 128 255]\n"
     ]
    },
    {
     "name": "stderr",
     "output_type": "stream",
     "text": [
      "Augmenting training data:  31%|███       | 23/74 [00:03<00:07,  6.91it/s]"
     ]
    },
    {
     "name": "stdout",
     "output_type": "stream",
     "text": [
      "Mask 0033 - sunflare: Before [  0 128 255], After [  0 128 255]\n",
      "Mask 0033 - coarsedropout: Before [  0 128 255], After [  0 128 255]\n",
      "Mask 0034 - brightness_contrast: Before [  0 128 255], After [  0 128 255]\n",
      "Mask 0034 - rain: Before [  0 128 255], After [  0 128 255]\n",
      "Mask 0034 - fog: Before [  0 128 255], After [  0 128 255]\n",
      "Mask 0034 - sunflare: Before [  0 128 255], After [  0 128 255]\n",
      "Mask 0034 - coarsedropout: Before [  0 128 255], After [  0 128 255]\n",
      "Mask 0036 - brightness_contrast: Before [  0 128 255], After [  0 128 255]\n"
     ]
    },
    {
     "name": "stderr",
     "output_type": "stream",
     "text": [
      "Augmenting training data:  32%|███▏      | 24/74 [00:03<00:07,  6.42it/s]"
     ]
    },
    {
     "name": "stdout",
     "output_type": "stream",
     "text": [
      "Mask 0036 - rain: Before [  0 128 255], After [  0 128 255]\n",
      "Mask 0036 - fog: Before [  0 128 255], After [  0 128 255]\n",
      "Mask 0036 - sunflare: Before [  0 128 255], After [  0 128 255]\n",
      "Mask 0036 - coarsedropout: Before [  0 128 255], After [  0 128 255]\n",
      "Mask 0038 - brightness_contrast: Before [  0 128], After [  0 128]\n",
      "Mask 0038 - rain: Before [  0 128], After [  0 128]\n"
     ]
    },
    {
     "name": "stderr",
     "output_type": "stream",
     "text": [
      "Augmenting training data:  34%|███▍      | 25/74 [00:03<00:07,  6.51it/s]"
     ]
    },
    {
     "name": "stdout",
     "output_type": "stream",
     "text": [
      "Mask 0038 - fog: Before [  0 128], After [  0 128]\n",
      "Mask 0038 - sunflare: Before [  0 128], After [  0 128]\n",
      "Mask 0038 - coarsedropout: Before [  0 128], After [  0 128]\n",
      "Mask 0042 - brightness_contrast: Before [  0 128 255], After [  0 128 255]\n",
      "Mask 0042 - rain: Before [  0 128 255], After [  0 128 255]\n",
      "Mask 0042 - fog: Before [  0 128 255], After [  0 128 255]\n"
     ]
    },
    {
     "name": "stderr",
     "output_type": "stream",
     "text": [
      "Augmenting training data:  36%|███▋      | 27/74 [00:04<00:07,  6.52it/s]"
     ]
    },
    {
     "name": "stdout",
     "output_type": "stream",
     "text": [
      "Mask 0042 - sunflare: Before [  0 128 255], After [  0 128 255]\n",
      "Mask 0042 - coarsedropout: Before [  0 128 255], After [  0 128 255]\n",
      "Mask 0044 - brightness_contrast: Before [  0 128 255], After [  0 128 255]\n",
      "Mask 0044 - rain: Before [  0 128 255], After [  0 128 255]\n",
      "Mask 0044 - fog: Before [  0 128 255], After [  0 128 255]\n",
      "Mask 0044 - sunflare: Before [  0 128 255], After [  0 128 255]\n",
      "Mask 0044 - coarsedropout: Before [  0 128 255], After [  0 128 255]\n",
      "Mask 0046 - brightness_contrast: Before [  0 128 255], After [  0 128 255]\n"
     ]
    },
    {
     "name": "stderr",
     "output_type": "stream",
     "text": [
      "Augmenting training data:  38%|███▊      | 28/74 [00:04<00:07,  6.13it/s]"
     ]
    },
    {
     "name": "stdout",
     "output_type": "stream",
     "text": [
      "Mask 0046 - rain: Before [  0 128 255], After [  0 128 255]\n",
      "Mask 0046 - fog: Before [  0 128 255], After [  0 128 255]\n",
      "Mask 0046 - sunflare: Before [  0 128 255], After [  0 128 255]\n",
      "Mask 0046 - coarsedropout: Before [  0 128 255], After [  0 128 255]\n",
      "Mask 0047 - brightness_contrast: Before [  0 128 255], After [  0 128 255]\n",
      "Mask 0047 - rain: Before [  0 128 255], After [  0 128 255]\n"
     ]
    },
    {
     "name": "stderr",
     "output_type": "stream",
     "text": [
      "Augmenting training data:  39%|███▉      | 29/74 [00:04<00:07,  6.22it/s]"
     ]
    },
    {
     "name": "stdout",
     "output_type": "stream",
     "text": [
      "Mask 0047 - fog: Before [  0 128 255], After [  0 128 255]\n",
      "Mask 0047 - sunflare: Before [  0 128 255], After [  0 128 255]\n",
      "Mask 0047 - coarsedropout: Before [  0 128 255], After [  0 128 255]\n",
      "Mask 0048 - brightness_contrast: Before [  0 128 255], After [  0 128 255]\n",
      "Mask 0048 - rain: Before [  0 128 255], After [  0 128 255]\n",
      "Mask 0048 - fog: Before [  0 128 255], After [  0 128 255]\n"
     ]
    },
    {
     "name": "stderr",
     "output_type": "stream",
     "text": [
      "Augmenting training data:  42%|████▏     | 31/74 [00:04<00:06,  6.49it/s]"
     ]
    },
    {
     "name": "stdout",
     "output_type": "stream",
     "text": [
      "Mask 0048 - sunflare: Before [  0 128 255], After [  0 128 255]\n",
      "Mask 0048 - coarsedropout: Before [  0 128 255], After [  0 128 255]\n",
      "Mask 0049 - brightness_contrast: Before [  0 128 255], After [  0 128 255]\n",
      "Mask 0049 - rain: Before [  0 128 255], After [  0 128 255]\n",
      "Mask 0049 - fog: Before [  0 128 255], After [  0 128 255]\n",
      "Mask 0049 - sunflare: Before [  0 128 255], After [  0 128 255]\n",
      "Mask 0049 - coarsedropout: Before [  0 128 255], After [  0 128 255]\n",
      "Mask 0051 - brightness_contrast: Before [  0 128 255], After [  0 128 255]\n",
      "Mask 0051 - rain: Before [  0 128 255], After [  0 128 255]\n"
     ]
    },
    {
     "name": "stderr",
     "output_type": "stream",
     "text": [
      "Augmenting training data:  45%|████▍     | 33/74 [00:05<00:05,  7.22it/s]"
     ]
    },
    {
     "name": "stdout",
     "output_type": "stream",
     "text": [
      "Mask 0051 - fog: Before [  0 128 255], After [  0 128 255]\n",
      "Mask 0051 - sunflare: Before [  0 128 255], After [  0 128 255]\n",
      "Mask 0051 - coarsedropout: Before [  0 128 255], After [  0 128 255]\n",
      "Mask 0052 - brightness_contrast: Before [  0 128 255], After [  0 128 255]\n",
      "Mask 0052 - rain: Before [  0 128 255], After [  0 128 255]\n",
      "Mask 0052 - fog: Before [  0 128 255], After [  0 128 255]\n",
      "Mask 0052 - sunflare: Before [  0 128 255], After [  0 128 255]\n",
      "Mask 0052 - coarsedropout: Before [  0 128 255], After [  0 128 255]\n",
      "Mask 0053 - brightness_contrast: Before [  0 128 255], After [  0 128 255]\n"
     ]
    },
    {
     "name": "stderr",
     "output_type": "stream",
     "text": [
      "Augmenting training data:  47%|████▋     | 35/74 [00:05<00:04,  8.11it/s]"
     ]
    },
    {
     "name": "stdout",
     "output_type": "stream",
     "text": [
      "Mask 0053 - rain: Before [  0 128 255], After [  0 128 255]\n",
      "Mask 0053 - fog: Before [  0 128 255], After [  0 128 255]\n",
      "Mask 0053 - sunflare: Before [  0 128 255], After [  0 128 255]\n",
      "Mask 0053 - coarsedropout: Before [  0 128 255], After [  0 128 255]\n",
      "Mask 0055 - brightness_contrast: Before [  0 128], After [  0 128]\n",
      "Mask 0055 - rain: Before [  0 128], After [  0 128]\n",
      "Mask 0055 - fog: Before [  0 128], After [  0 128]\n",
      "Mask 0055 - sunflare: Before [  0 128], After [  0 128]\n",
      "Mask 0055 - coarsedropout: Before [  0 128], After [  0 128]\n"
     ]
    },
    {
     "name": "stderr",
     "output_type": "stream",
     "text": [
      "Augmenting training data:  49%|████▊     | 36/74 [00:05<00:04,  7.70it/s]"
     ]
    },
    {
     "name": "stdout",
     "output_type": "stream",
     "text": [
      "Mask 0056 - brightness_contrast: Before [  0 128 255], After [  0 128 255]\n",
      "Mask 0056 - rain: Before [  0 128 255], After [  0 128 255]\n",
      "Mask 0056 - fog: Before [  0 128 255], After [  0 128 255]\n",
      "Mask 0056 - sunflare: Before [  0 128 255], After [  0 128 255]\n",
      "Mask 0056 - coarsedropout: Before [  0 128 255], After [  0 128 255]\n",
      "Mask 0058 - brightness_contrast: Before [  0 128 255], After [  0 128 255]\n",
      "Mask 0058 - rain: Before [  0 128 255], After [  0 128 255]\n",
      "Mask 0058 - fog: Before [  0 128 255], After [  0 128 255]\n"
     ]
    },
    {
     "name": "stderr",
     "output_type": "stream",
     "text": [
      "Augmenting training data:  51%|█████▏    | 38/74 [00:05<00:04,  7.30it/s]"
     ]
    },
    {
     "name": "stdout",
     "output_type": "stream",
     "text": [
      "Mask 0058 - sunflare: Before [  0 128 255], After [  0 128 255]\n",
      "Mask 0058 - coarsedropout: Before [  0 128 255], After [  0 128 255]\n",
      "Mask 0059 - brightness_contrast: Before [  0 128 255], After [  0 128 255]\n",
      "Mask 0059 - rain: Before [  0 128 255], After [  0 128 255]\n",
      "Mask 0059 - fog: Before [  0 128 255], After [  0 128 255]\n",
      "Mask 0059 - sunflare: Before [  0 128 255], After [  0 128 255]\n",
      "Mask 0059 - coarsedropout: Before [  0 128 255], After [  0 128 255]\n",
      "Mask 0061 - brightness_contrast: Before [  0 128 255], After [  0 128 255]\n"
     ]
    },
    {
     "name": "stderr",
     "output_type": "stream",
     "text": [
      "Augmenting training data:  53%|█████▎    | 39/74 [00:05<00:05,  6.98it/s]"
     ]
    },
    {
     "name": "stdout",
     "output_type": "stream",
     "text": [
      "Mask 0061 - rain: Before [  0 128 255], After [  0 128 255]\n",
      "Mask 0061 - fog: Before [  0 128 255], After [  0 128 255]\n",
      "Mask 0061 - sunflare: Before [  0 128 255], After [  0 128 255]\n",
      "Mask 0061 - coarsedropout: Before [  0 128 255], After [  0 128 255]\n",
      "Mask 0064 - brightness_contrast: Before [  0 128 255], After [  0 128 255]\n",
      "Mask 0064 - rain: Before [  0 128 255], After [  0 128 255]\n",
      "Mask 0064 - fog: Before [  0 128 255], After [  0 128 255]\n"
     ]
    },
    {
     "name": "stderr",
     "output_type": "stream",
     "text": [
      "Augmenting training data:  55%|█████▌    | 41/74 [00:06<00:04,  6.75it/s]"
     ]
    },
    {
     "name": "stdout",
     "output_type": "stream",
     "text": [
      "Mask 0064 - sunflare: Before [  0 128 255], After [  0 128 255]\n",
      "Mask 0064 - coarsedropout: Before [  0 128 255], After [  0 128 255]\n",
      "Mask 0065 - brightness_contrast: Before [  0 128 255], After [  0 128 255]\n",
      "Mask 0065 - rain: Before [  0 128 255], After [  0 128 255]\n",
      "Mask 0065 - fog: Before [  0 128 255], After [  0 128 255]\n",
      "Mask 0065 - sunflare: Before [  0 128 255], After [  0 128 255]\n",
      "Mask 0065 - coarsedropout: Before [  0 128 255], After [  0 128 255]\n",
      "Mask 0066 - brightness_contrast: Before [  0 128 255], After [  0 128 255]\n"
     ]
    },
    {
     "name": "stderr",
     "output_type": "stream",
     "text": [
      "Augmenting training data:  57%|█████▋    | 42/74 [00:06<00:04,  6.65it/s]"
     ]
    },
    {
     "name": "stdout",
     "output_type": "stream",
     "text": [
      "Mask 0066 - rain: Before [  0 128 255], After [  0 128 255]\n",
      "Mask 0066 - fog: Before [  0 128 255], After [  0 128 255]\n",
      "Mask 0066 - sunflare: Before [  0 128 255], After [  0 128 255]\n",
      "Mask 0066 - coarsedropout: Before [  0 128 255], After [  0 128 255]\n",
      "Mask 0067 - brightness_contrast: Before [  0 128 255], After [  0 128 255]\n",
      "Mask 0067 - rain: Before [  0 128 255], After [  0 128 255]\n"
     ]
    },
    {
     "name": "stderr",
     "output_type": "stream",
     "text": [
      "Augmenting training data:  58%|█████▊    | 43/74 [00:06<00:04,  6.20it/s]"
     ]
    },
    {
     "name": "stdout",
     "output_type": "stream",
     "text": [
      "Mask 0067 - fog: Before [  0 128 255], After [  0 128 255]\n",
      "Mask 0067 - sunflare: Before [  0 128 255], After [  0 128 255]\n",
      "Mask 0067 - coarsedropout: Before [  0 128 255], After [  0 128 255]\n",
      "Mask 0068 - brightness_contrast: Before [  0 128 255], After [  0 128 255]\n",
      "Mask 0068 - rain: Before [  0 128 255], After [  0 128 255]\n",
      "Mask 0068 - fog: Before [  0 128 255], After [  0 128 255]\n"
     ]
    },
    {
     "name": "stderr",
     "output_type": "stream",
     "text": [
      "Augmenting training data:  61%|██████    | 45/74 [00:06<00:04,  6.36it/s]"
     ]
    },
    {
     "name": "stdout",
     "output_type": "stream",
     "text": [
      "Mask 0068 - sunflare: Before [  0 128 255], After [  0 128 255]\n",
      "Mask 0068 - coarsedropout: Before [  0 128 255], After [  0 128 255]\n",
      "Mask 0070 - brightness_contrast: Before [  0 128 255], After [  0 128 255]\n",
      "Mask 0070 - rain: Before [  0 128 255], After [  0 128 255]\n",
      "Mask 0070 - fog: Before [  0 128 255], After [  0 128 255]\n",
      "Mask 0070 - sunflare: Before [  0 128 255], After [  0 128 255]\n",
      "Mask 0070 - coarsedropout: Before [  0 128 255], After [  0 128 255]\n",
      "Mask 0071 - brightness_contrast: Before [  0 128 255], After [  0 128 255]\n"
     ]
    },
    {
     "name": "stderr",
     "output_type": "stream",
     "text": [
      "Augmenting training data:  62%|██████▏   | 46/74 [00:06<00:04,  6.56it/s]"
     ]
    },
    {
     "name": "stdout",
     "output_type": "stream",
     "text": [
      "Mask 0071 - rain: Before [  0 128 255], After [  0 128 255]\n",
      "Mask 0071 - fog: Before [  0 128 255], After [  0 128 255]\n",
      "Mask 0071 - sunflare: Before [  0 128 255], After [  0 128 255]\n",
      "Mask 0071 - coarsedropout: Before [  0 128 255], After [  0 128 255]\n",
      "Mask 0072 - brightness_contrast: Before [  0 128 255], After [  0 128 255]\n",
      "Mask 0072 - rain: Before [  0 128 255], After [  0 128 255]\n",
      "Mask 0072 - fog: Before [  0 128 255], After [  0 128 255]\n"
     ]
    },
    {
     "name": "stderr",
     "output_type": "stream",
     "text": [
      "Augmenting training data:  65%|██████▍   | 48/74 [00:07<00:03,  7.41it/s]"
     ]
    },
    {
     "name": "stdout",
     "output_type": "stream",
     "text": [
      "Mask 0072 - sunflare: Before [  0 128 255], After [  0 128 255]\n",
      "Mask 0072 - coarsedropout: Before [  0 128 255], After [  0 128 255]\n",
      "Mask 0075 - brightness_contrast: Before [  0 128 255], After [  0 128 255]\n",
      "Mask 0075 - rain: Before [  0 128 255], After [  0 128 255]\n",
      "Mask 0075 - fog: Before [  0 128 255], After [  0 128 255]\n",
      "Mask 0075 - sunflare: Before [  0 128 255], After [  0 128 255]\n",
      "Mask 0075 - coarsedropout: Before [  0 128 255], After [  0 128 255]\n",
      "Mask 0076 - brightness_contrast: Before [  0 128 255], After [  0 128 255]\n",
      "Mask 0076 - rain: Before [  0 128 255], After [  0 128 255]\n",
      "Mask 0076 - fog: Before [  0 128 255], After [  0 128 255]\n"
     ]
    },
    {
     "name": "stderr",
     "output_type": "stream",
     "text": [
      "Augmenting training data:  68%|██████▊   | 50/74 [00:07<00:03,  7.14it/s]"
     ]
    },
    {
     "name": "stdout",
     "output_type": "stream",
     "text": [
      "Mask 0076 - sunflare: Before [  0 128 255], After [  0 128 255]\n",
      "Mask 0076 - coarsedropout: Before [  0 128 255], After [  0 128 255]\n",
      "Mask 0078 - brightness_contrast: Before [  0 128 255], After [  0 128 255]\n",
      "Mask 0078 - rain: Before [  0 128 255], After [  0 128 255]\n",
      "Mask 0078 - fog: Before [  0 128 255], After [  0 128 255]\n",
      "Mask 0078 - sunflare: Before [  0 128 255], After [  0 128 255]\n",
      "Mask 0078 - coarsedropout: Before [  0 128 255], After [  0 128 255]\n",
      "Mask 0079 - brightness_contrast: Before [  0 128 255], After [  0 128 255]\n"
     ]
    },
    {
     "name": "stderr",
     "output_type": "stream",
     "text": [
      "Augmenting training data:  69%|██████▉   | 51/74 [00:07<00:03,  6.98it/s]"
     ]
    },
    {
     "name": "stdout",
     "output_type": "stream",
     "text": [
      "Mask 0079 - rain: Before [  0 128 255], After [  0 128 255]\n",
      "Mask 0079 - fog: Before [  0 128 255], After [  0 128 255]\n",
      "Mask 0079 - sunflare: Before [  0 128 255], After [  0 128 255]\n",
      "Mask 0079 - coarsedropout: Before [  0 128 255], After [  0 128 255]\n",
      "Mask 0080 - brightness_contrast: Before [  0 128 255], After [  0 128 255]\n",
      "Mask 0080 - rain: Before [  0 128 255], After [  0 128 255]\n",
      "Mask 0080 - fog: Before [  0 128 255], After [  0 128 255]\n"
     ]
    },
    {
     "name": "stderr",
     "output_type": "stream",
     "text": [
      "Augmenting training data:  72%|███████▏  | 53/74 [00:07<00:03,  6.65it/s]"
     ]
    },
    {
     "name": "stdout",
     "output_type": "stream",
     "text": [
      "Mask 0080 - sunflare: Before [  0 128 255], After [  0 128 255]\n",
      "Mask 0080 - coarsedropout: Before [  0 128 255], After [  0 128 255]\n",
      "Mask 0081 - brightness_contrast: Before [  0 128 255], After [  0 128 255]\n",
      "Mask 0081 - rain: Before [  0 128 255], After [  0 128 255]\n",
      "Mask 0081 - fog: Before [  0 128 255], After [  0 128 255]\n",
      "Mask 0081 - sunflare: Before [  0 128 255], After [  0 128 255]\n",
      "Mask 0081 - coarsedropout: Before [  0 128 255], After [  0 128 255]\n"
     ]
    },
    {
     "name": "stderr",
     "output_type": "stream",
     "text": [
      "Augmenting training data:  73%|███████▎  | 54/74 [00:08<00:03,  6.44it/s]"
     ]
    },
    {
     "name": "stdout",
     "output_type": "stream",
     "text": [
      "Mask 0082 - brightness_contrast: Before [  0 128 255], After [  0 128 255]\n",
      "Mask 0082 - rain: Before [  0 128 255], After [  0 128 255]\n",
      "Mask 0082 - fog: Before [  0 128 255], After [  0 128 255]\n",
      "Mask 0082 - sunflare: Before [  0 128 255], After [  0 128 255]\n",
      "Mask 0082 - coarsedropout: Before [  0 128 255], After [  0 128 255]\n",
      "Mask 0085 - brightness_contrast: Before [  0 128 255], After [  0 128 255]\n",
      "Mask 0085 - rain: Before [  0 128 255], After [  0 128 255]\n"
     ]
    },
    {
     "name": "stderr",
     "output_type": "stream",
     "text": [
      "Augmenting training data:  74%|███████▍  | 55/74 [00:08<00:03,  6.32it/s]"
     ]
    },
    {
     "name": "stdout",
     "output_type": "stream",
     "text": [
      "Mask 0085 - fog: Before [  0 128 255], After [  0 128 255]\n",
      "Mask 0085 - sunflare: Before [  0 128 255], After [  0 128 255]\n",
      "Mask 0085 - coarsedropout: Before [  0 128 255], After [  0 128 255]\n",
      "Mask 0087 - brightness_contrast: Before [  0 128 255], After [  0 128 255]\n",
      "Mask 0087 - rain: Before [  0 128 255], After [  0 128 255]\n",
      "Mask 0087 - fog: Before [  0 128 255], After [  0 128 255]\n"
     ]
    },
    {
     "name": "stderr",
     "output_type": "stream",
     "text": [
      "Augmenting training data:  76%|███████▌  | 56/74 [00:08<00:02,  6.22it/s]"
     ]
    },
    {
     "name": "stdout",
     "output_type": "stream",
     "text": [
      "Mask 0087 - sunflare: Before [  0 128 255], After [  0 128 255]\n",
      "Mask 0087 - coarsedropout: Before [  0 128 255], After [  0 128 255]\n",
      "Mask 0088 - brightness_contrast: Before [  0 128 255], After [  0 128 255]\n",
      "Mask 0088 - rain: Before [  0 128 255], After [  0 128 255]\n",
      "Mask 0088 - fog: Before [  0 128 255], After [  0 128 255]\n",
      "Mask 0088 - sunflare: Before [  0 128 255], After [  0 128 255]\n",
      "Mask 0088 - coarsedropout: Before [  0 128 255], After [  0 128 255]\n"
     ]
    },
    {
     "name": "stderr",
     "output_type": "stream",
     "text": [
      "Augmenting training data:  78%|███████▊  | 58/74 [00:08<00:02,  6.30it/s]"
     ]
    },
    {
     "name": "stdout",
     "output_type": "stream",
     "text": [
      "Mask 0089 - brightness_contrast: Before [  0 128 255], After [  0 128 255]\n",
      "Mask 0089 - rain: Before [  0 128 255], After [  0 128 255]\n",
      "Mask 0089 - fog: Before [  0 128 255], After [  0 128 255]\n",
      "Mask 0089 - sunflare: Before [  0 128 255], After [  0 128 255]\n",
      "Mask 0089 - coarsedropout: Before [  0 128 255], After [  0 128 255]\n",
      "Mask 0091 - brightness_contrast: Before [  0 128 255], After [  0 128 255]\n",
      "Mask 0091 - rain: Before [  0 128 255], After [  0 128 255]\n",
      "Mask 0091 - fog: Before [  0 128 255], After [  0 128 255]\n"
     ]
    },
    {
     "name": "stderr",
     "output_type": "stream",
     "text": [
      "Augmenting training data:  81%|████████  | 60/74 [00:09<00:02,  6.95it/s]"
     ]
    },
    {
     "name": "stdout",
     "output_type": "stream",
     "text": [
      "Mask 0091 - sunflare: Before [  0 128 255], After [  0 128 255]\n",
      "Mask 0091 - coarsedropout: Before [  0 128 255], After [  0 128 255]\n",
      "Mask 0092 - brightness_contrast: Before [  0 128 255], After [  0 128 255]\n",
      "Mask 0092 - rain: Before [  0 128 255], After [  0 128 255]\n",
      "Mask 0092 - fog: Before [  0 128 255], After [  0 128 255]\n",
      "Mask 0092 - sunflare: Before [  0 128 255], After [  0 128 255]\n",
      "Mask 0092 - coarsedropout: Before [  0 128 255], After [  0 128 255]\n",
      "Mask 0094 - brightness_contrast: Before [  0 128 255], After [  0 128 255]\n",
      "Mask 0094 - rain: Before [  0 128 255], After [  0 128 255]\n"
     ]
    },
    {
     "name": "stderr",
     "output_type": "stream",
     "text": [
      "Augmenting training data:  82%|████████▏ | 61/74 [00:09<00:01,  6.93it/s]"
     ]
    },
    {
     "name": "stdout",
     "output_type": "stream",
     "text": [
      "Mask 0094 - fog: Before [  0 128 255], After [  0 128 255]\n",
      "Mask 0094 - sunflare: Before [  0 128 255], After [  0 128 255]\n",
      "Mask 0094 - coarsedropout: Before [  0 128 255], After [  0 128 255]\n",
      "Mask 0097 - brightness_contrast: Before [  0 128 255], After [  0 128 255]\n",
      "Mask 0097 - rain: Before [  0 128 255], After [  0 128 255]\n",
      "Mask 0097 - fog: Before [  0 128 255], After [  0 128 255]\n"
     ]
    },
    {
     "name": "stderr",
     "output_type": "stream",
     "text": [
      "Augmenting training data:  85%|████████▌ | 63/74 [00:09<00:01,  6.94it/s]"
     ]
    },
    {
     "name": "stdout",
     "output_type": "stream",
     "text": [
      "Mask 0097 - sunflare: Before [  0 128 255], After [  0 128 255]\n",
      "Mask 0097 - coarsedropout: Before [  0 128 255], After [  0 128 255]\n",
      "Mask 0098 - brightness_contrast: Before [  0 128 255], After [  0 128 255]\n",
      "Mask 0098 - rain: Before [  0 128 255], After [  0 128 255]\n",
      "Mask 0098 - fog: Before [  0 128 255], After [  0 128 255]\n",
      "Mask 0098 - sunflare: Before [  0 128 255], After [  0 128 255]\n",
      "Mask 0098 - coarsedropout: Before [  0 128 255], After [  0 128 255]\n",
      "Mask 0100 - brightness_contrast: Before [  0 128 255], After [  0 128 255]\n"
     ]
    },
    {
     "name": "stderr",
     "output_type": "stream",
     "text": [
      "Augmenting training data:  86%|████████▋ | 64/74 [00:09<00:01,  6.59it/s]"
     ]
    },
    {
     "name": "stdout",
     "output_type": "stream",
     "text": [
      "Mask 0100 - rain: Before [  0 128 255], After [  0 128 255]\n",
      "Mask 0100 - fog: Before [  0 128 255], After [  0 128 255]\n",
      "Mask 0100 - sunflare: Before [  0 128 255], After [  0 128 255]\n",
      "Mask 0100 - coarsedropout: Before [  0 128 255], After [  0 128 255]\n",
      "Mask 0101 - brightness_contrast: Before [  0 128 255], After [  0 128 255]\n",
      "Mask 0101 - rain: Before [  0 128 255], After [  0 128 255]\n",
      "Mask 0101 - fog: Before [  0 128 255], After [  0 128 255]\n"
     ]
    },
    {
     "name": "stderr",
     "output_type": "stream",
     "text": [
      "Augmenting training data:  89%|████████▉ | 66/74 [00:09<00:01,  6.42it/s]"
     ]
    },
    {
     "name": "stdout",
     "output_type": "stream",
     "text": [
      "Mask 0101 - sunflare: Before [  0 128 255], After [  0 128 255]\n",
      "Mask 0101 - coarsedropout: Before [  0 128 255], After [  0 128 255]\n",
      "Mask 0103 - brightness_contrast: Before [  0 128 255], After [  0 128 255]\n",
      "Mask 0103 - rain: Before [  0 128 255], After [  0 128 255]\n",
      "Mask 0103 - fog: Before [  0 128 255], After [  0 128 255]\n",
      "Mask 0103 - sunflare: Before [  0 128 255], After [  0 128 255]\n",
      "Mask 0103 - coarsedropout: Before [  0 128 255], After [  0 128 255]\n"
     ]
    },
    {
     "name": "stderr",
     "output_type": "stream",
     "text": [
      "Augmenting training data:  91%|█████████ | 67/74 [00:10<00:01,  6.37it/s]"
     ]
    },
    {
     "name": "stdout",
     "output_type": "stream",
     "text": [
      "Mask 0106 - brightness_contrast: Before [  0 128 255], After [  0 128 255]\n",
      "Mask 0106 - rain: Before [  0 128 255], After [  0 128 255]\n",
      "Mask 0106 - fog: Before [  0 128 255], After [  0 128 255]\n",
      "Mask 0106 - sunflare: Before [  0 128 255], After [  0 128 255]\n",
      "Mask 0106 - coarsedropout: Before [  0 128 255], After [  0 128 255]\n",
      "Mask 0107 - brightness_contrast: Before [  0 128 255], After [  0 128 255]\n",
      "Mask 0107 - rain: Before [  0 128 255], After [  0 128 255]\n"
     ]
    },
    {
     "name": "stderr",
     "output_type": "stream",
     "text": [
      "Augmenting training data:  92%|█████████▏| 68/74 [00:10<00:01,  5.78it/s]"
     ]
    },
    {
     "name": "stdout",
     "output_type": "stream",
     "text": [
      "Mask 0107 - fog: Before [  0 128 255], After [  0 128 255]\n",
      "Mask 0107 - sunflare: Before [  0 128 255], After [  0 128 255]\n",
      "Mask 0107 - coarsedropout: Before [  0 128 255], After [  0 128 255]\n",
      "Mask 0108 - brightness_contrast: Before [  0 128 255], After [  0 128 255]\n",
      "Mask 0108 - rain: Before [  0 128 255], After [  0 128 255]\n",
      "Mask 0108 - fog: Before [  0 128 255], After [  0 128 255]\n"
     ]
    },
    {
     "name": "stderr",
     "output_type": "stream",
     "text": [
      "Augmenting training data:  93%|█████████▎| 69/74 [00:10<00:00,  5.93it/s]"
     ]
    },
    {
     "name": "stdout",
     "output_type": "stream",
     "text": [
      "Mask 0108 - sunflare: Before [  0 128 255], After [  0 128 255]\n",
      "Mask 0108 - coarsedropout: Before [  0 128 255], After [  0 128 255]\n",
      "Mask 0110 - brightness_contrast: Before [  0 128 255], After [  0 128 255]\n",
      "Mask 0110 - rain: Before [  0 128 255], After [  0 128 255]\n",
      "Mask 0110 - fog: Before [  0 128 255], After [  0 128 255]\n",
      "Mask 0110 - sunflare: Before [  0 128 255], After [  0 128 255]\n",
      "Mask 0110 - coarsedropout: Before [  0 128 255], After [  0 128 255]\n"
     ]
    },
    {
     "name": "stderr",
     "output_type": "stream",
     "text": [
      "Augmenting training data:  96%|█████████▌| 71/74 [00:10<00:00,  6.16it/s]"
     ]
    },
    {
     "name": "stdout",
     "output_type": "stream",
     "text": [
      "Mask 0111 - brightness_contrast: Before [  0 128 255], After [  0 128 255]\n",
      "Mask 0111 - rain: Before [  0 128 255], After [  0 128 255]\n",
      "Mask 0111 - fog: Before [  0 128 255], After [  0 128 255]\n",
      "Mask 0111 - sunflare: Before [  0 128 255], After [  0 128 255]\n",
      "Mask 0111 - coarsedropout: Before [  0 128 255], After [  0 128 255]\n",
      "Mask 0112 - brightness_contrast: Before [  0 128 255], After [  0 128 255]\n",
      "Mask 0112 - rain: Before [  0 128 255], After [  0 128 255]\n"
     ]
    },
    {
     "name": "stderr",
     "output_type": "stream",
     "text": [
      "Augmenting training data:  99%|█████████▊| 73/74 [00:11<00:00,  6.91it/s]"
     ]
    },
    {
     "name": "stdout",
     "output_type": "stream",
     "text": [
      "Mask 0112 - fog: Before [  0 128 255], After [  0 128 255]\n",
      "Mask 0112 - sunflare: Before [  0 128 255], After [  0 128 255]\n",
      "Mask 0112 - coarsedropout: Before [  0 128 255], After [  0 128 255]\n",
      "Mask 0114 - brightness_contrast: Before [  0 128 255], After [  0 128 255]\n",
      "Mask 0114 - rain: Before [  0 128 255], After [  0 128 255]\n",
      "Mask 0114 - fog: Before [  0 128 255], After [  0 128 255]\n",
      "Mask 0114 - sunflare: Before [  0 128 255], After [  0 128 255]\n",
      "Mask 0114 - coarsedropout: Before [  0 128 255], After [  0 128 255]\n",
      "Mask 0117 - brightness_contrast: Before [  0 128 255], After [  0 128 255]\n"
     ]
    },
    {
     "name": "stderr",
     "output_type": "stream",
     "text": [
      "Augmenting training data: 100%|██████████| 74/74 [00:11<00:00,  6.64it/s]"
     ]
    },
    {
     "name": "stdout",
     "output_type": "stream",
     "text": [
      "Mask 0117 - rain: Before [  0 128 255], After [  0 128 255]\n",
      "Mask 0117 - fog: Before [  0 128 255], After [  0 128 255]\n",
      "Mask 0117 - sunflare: Before [  0 128 255], After [  0 128 255]\n",
      "Mask 0117 - coarsedropout: Before [  0 128 255], After [  0 128 255]\n",
      "Data augmentation completed successfully.\n"
     ]
    },
    {
     "name": "stderr",
     "output_type": "stream",
     "text": [
      "\n"
     ]
    }
   ],
   "source": [
    "augment_training_data(train_images, train_masks, augmented_dir)\n",
    "print(\"Data augmentation completed successfully.\")"
   ]
  }
 ],
 "metadata": {
  "kernelspec": {
   "display_name": "base",
   "language": "python",
   "name": "python3"
  },
  "language_info": {
   "codemirror_mode": {
    "name": "ipython",
    "version": 3
   },
   "file_extension": ".py",
   "mimetype": "text/x-python",
   "name": "python",
   "nbconvert_exporter": "python",
   "pygments_lexer": "ipython3",
   "version": "3.12.2"
  }
 },
 "nbformat": 4,
 "nbformat_minor": 5
}
