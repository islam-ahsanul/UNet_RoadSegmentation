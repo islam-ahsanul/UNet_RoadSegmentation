{
 "cells": [
  {
   "cell_type": "markdown",
   "id": "b916d382",
   "metadata": {},
   "source": [
    "### Data processing\n",
    "\n",
    "1. Dataset loading: images and masks\n",
    "2. Dataset splitting:\n",
    "   1. Taining set\n",
    "   2. Validation set\n",
    "   3. Test set\n",
    "3. Data augmentation\n",
    "4. Save the dataset"
   ]
  },
  {
   "cell_type": "code",
   "execution_count": 2,
   "id": "b6109d7a",
   "metadata": {},
   "outputs": [],
   "source": [
    "import os\n",
    "import numpy as np\n",
    "import cv2\n",
    "from glob import glob\n",
    "from tqdm import tqdm\n",
    "from albumentations import (\n",
    "    Compose, RandomBrightnessContrast, RandomRain, RandomFog, RandomSunFlare,\n",
    "    HorizontalFlip, CoarseDropout, RandomBrightness, RandomContrast\n",
    ")"
   ]
  },
  {
   "cell_type": "markdown",
   "id": "2ae9e81a",
   "metadata": {},
   "source": [
    "### Dataset loading: images and masks"
   ]
  },
  {
   "cell_type": "code",
   "execution_count": null,
   "id": "7ecb48f1",
   "metadata": {},
   "outputs": [],
   "source": [
    "def load_training_data(path):\n",
    "    \"\"\"\n",
    "    Load images and masks from the training directory.\n",
    "    \"\"\"\n",
    "    images = sorted(glob(os.path.join(path, '/train/images', '*.png')))\n",
    "    masks = sorted(glob(os.path.join(path, '/train/masks', '*.png')))\n",
    "    return images, masks"
   ]
  },
  {
   "cell_type": "code",
   "execution_count": null,
   "id": "b50a3323",
   "metadata": {},
   "outputs": [],
   "source": [
    "def augment_training_data(images, masks, save_dir):\n",
    "    \"\"\"\n",
    "    Apply augmentations to the training dataset and save the augmented dataset.\n",
    "    \"\"\"\n",
    "    augmentations = Compose([\n",
    "        RandomBrightnessContrast(p=0.2),\n",
    "        RandomRain(p=0.2),\n",
    "        RandomFog(p=0.2),\n",
    "        RandomSunFlare(p=0.2),\n",
    "        HorizontalFlip(p=0.5),\n",
    "        CoarseDropout(p=0.2, max_holes=10, max_height=32, max_width=32),\n",
    "    ])\n",
    "\n",
    "    for img_path, mask_path in tqdm(zip(images, masks), total=len(images), desc=\"Augmenting training data\"):\n",
    "        img_name = os.path.basename(img_path).split('.')[0]\n",
    "\n",
    "        img = cv2.imread(img_path, cv2.IMREAD_COLOR)\n",
    "        mask = cv2.imread(mask_path, cv2.IMREAD_GRAYSCALE)\n",
    "\n",
    "        if img is not None and mask is not None:\n",
    "            augmented = augmentations(image=img, mask=mask)\n",
    "            aug_img, aug_mask = augmented['image'], augmented['mask']\n",
    "\n",
    "            # Save augmented images and masks\n",
    "            cv2.imwrite(os.path.join(save_dir, 'images', f\"{img_name}_aug.png\"), aug_img)\n",
    "            cv2.imwrite(os.path.join(save_dir, 'masks', f\"{img_name}_aug.png\"), aug_mask)"
   ]
  },
  {
   "cell_type": "code",
   "execution_count": null,
   "id": "8423cd47",
   "metadata": {},
   "outputs": [],
   "source": [
    "# Execute augmentation\n",
    "dataset_path = '/home/ahsan/University/Thesis/UNet_Directory/Datasets/second_phase/processed_dataset/non-aug'\n",
    "train_images, train_masks = load_training_data(dataset_path)"
   ]
  },
  {
   "cell_type": "code",
   "execution_count": null,
   "id": "66625497",
   "metadata": {},
   "outputs": [],
   "source": [
    "# Save augmented training data\n",
    "save_path = '/home/ahsan/University/Thesis/UNet_Directory/Datasets/second_phase/processed_dataset'\n",
    "augmented_dir = os.path.join(save_path, 'aug')\n",
    "os.makedirs(os.path.join(augmented_dir, 'images'), exist_ok=True)\n",
    "os.makedirs(os.path.join(augmented_dir, 'masks'), exist_ok=True)"
   ]
  },
  {
   "cell_type": "code",
   "execution_count": null,
   "id": "581dc31a",
   "metadata": {},
   "outputs": [],
   "source": [
    "augment_training_data(train_images, train_masks, augmented_dir)"
   ]
  }
 ],
 "metadata": {
  "kernelspec": {
   "display_name": "base",
   "language": "python",
   "name": "python3"
  },
  "language_info": {
   "codemirror_mode": {
    "name": "ipython",
    "version": 3
   },
   "file_extension": ".py",
   "mimetype": "text/x-python",
   "name": "python",
   "nbconvert_exporter": "python",
   "pygments_lexer": "ipython3",
   "version": "3.12.2"
  }
 },
 "nbformat": 4,
 "nbformat_minor": 5
}
