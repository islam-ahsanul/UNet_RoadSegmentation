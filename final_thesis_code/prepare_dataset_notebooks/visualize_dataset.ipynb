{
 "cells": [
  {
   "cell_type": "markdown",
   "id": "0c220fd3",
   "metadata": {},
   "source": [
    "### Visualize dataset\n"
   ]
  },
  {
   "cell_type": "code",
   "execution_count": 1,
   "id": "189e5e59",
   "metadata": {},
   "outputs": [],
   "source": [
    "import os\n",
    "import numpy as np\n",
    "import cv2\n",
    "from tqdm import tqdm"
   ]
  },
  {
   "cell_type": "markdown",
   "id": "1ee8d1ab",
   "metadata": {},
   "source": [
    "### Load all the image names"
   ]
  },
  {
   "cell_type": "code",
   "execution_count": 2,
   "id": "17455b8c",
   "metadata": {},
   "outputs": [],
   "source": [
    "# Directory paths\n",
    "cleaned_images_dir = \"/home/ahsan/University/Thesis/UNet_Directory/Datasets/cleaned_images\"\n",
    "masks_dir = \"/home/ahsan/University/Thesis/UNet_Directory/Datasets/mask_images\"\n",
    "output_dir = \"/home/ahsan/University/Thesis/UNet_Directory/Datasets/visualized_dataset\""
   ]
  },
  {
   "cell_type": "code",
   "execution_count": 3,
   "id": "ff988e81",
   "metadata": {},
   "outputs": [
    {
     "name": "stdout",
     "output_type": "stream",
     "text": [
      "['1.jpg', '2.jpg', '3.jpg']\n"
     ]
    }
   ],
   "source": [
    "# Create the output directory if it doesn't exist\n",
    "os.makedirs(output_dir, exist_ok=True)"
   ]
  },
  {
   "cell_type": "code",
   "execution_count": null,
   "id": "4f04940f",
   "metadata": {},
   "outputs": [],
   "source": [
    "# Load all image names\n",
    "image_names = sorted(os.listdir(cleaned_images_dir))\n",
    "print(f\"Total images: {len(image_names)}\")"
   ]
  },
  {
   "cell_type": "markdown",
   "id": "2b123972",
   "metadata": {},
   "source": [
    "### Loop over the names"
   ]
  },
  {
   "cell_type": "code",
   "execution_count": null,
   "id": "1da04ea4",
   "metadata": {},
   "outputs": [],
   "source": [
    "# Visualize images and masks side by side\n",
    "for name in tqdm(image_names, desc=\"Visualizing dataset\"):\n",
    "    image_path = os.path.join(cleaned_images_dir, name)\n",
    "    mask_path = os.path.join(masks_dir, name.replace(\".jpg\", \".png\").replace(\".jpeg\", \".png\"))\n",
    "\n",
    "    # Load the image and mask\n",
    "    x = cv2.imread(image_path, cv2.IMREAD_COLOR)\n",
    "    y = cv2.imread(mask_path, cv2.IMREAD_GRAYSCALE)\n",
    "\n",
    "    if x is not None and y is not None:\n",
    "        # Create a separator line\n",
    "        line = np.ones((x.shape[0], 10, 3)) * 255\n",
    "\n",
    "        # Apply a colormap to the mask for visualization\n",
    "        y_colored = cv2.applyColorMap((y * 50).astype(np.uint8), cv2.COLORMAP_JET)\n",
    "\n",
    "        # Concatenate the image and the mask\n",
    "        cat_img = np.concatenate([x, line, y_colored], axis=1)\n",
    "\n",
    "        # Save the visualized image\n",
    "        save_path = os.path.join(output_dir, name.replace(\".jpg\", \".png\").replace(\".jpeg\", \".png\"))\n",
    "        cv2.imwrite(save_path, cat_img)"
   ]
  }
 ],
 "metadata": {
  "kernelspec": {
   "display_name": "base",
   "language": "python",
   "name": "python3"
  },
  "language_info": {
   "codemirror_mode": {
    "name": "ipython",
    "version": 3
   },
   "file_extension": ".py",
   "mimetype": "text/x-python",
   "name": "python",
   "nbconvert_exporter": "python",
   "pygments_lexer": "ipython3",
   "version": "3.12.2"
  }
 },
 "nbformat": 4,
 "nbformat_minor": 5
}
