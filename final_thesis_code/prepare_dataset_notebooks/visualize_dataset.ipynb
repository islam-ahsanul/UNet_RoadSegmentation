{
 "cells": [
  {
   "cell_type": "markdown",
   "id": "0c220fd3",
   "metadata": {},
   "source": [
    "### Visualize dataset\n"
   ]
  },
  {
   "cell_type": "code",
   "execution_count": 1,
   "id": "189e5e59",
   "metadata": {},
   "outputs": [],
   "source": [
    "import os\n",
    "import numpy as np\n",
    "import cv2\n",
    "from tqdm import tqdm"
   ]
  },
  {
   "cell_type": "markdown",
   "id": "1ee8d1ab",
   "metadata": {},
   "source": [
    "### Load all the image names"
   ]
  },
  {
   "cell_type": "code",
   "execution_count": 2,
   "id": "17455b8c",
   "metadata": {},
   "outputs": [],
   "source": [
    "# Directory paths\n",
    "cleaned_images_dir = \"/home/ahsan/University/Thesis/UNet_Directory/Datasets/cleaned_images_to_use\"\n",
    "masks_dir = \"/home/ahsan/University/Thesis/UNet_Directory/Datasets/mask_images\"\n",
    "output_dir = \"/home/ahsan/University/Thesis/UNet_Directory/Datasets/visualized_dataset\""
   ]
  },
  {
   "cell_type": "code",
   "execution_count": 3,
   "id": "ff988e81",
   "metadata": {},
   "outputs": [],
   "source": [
    "# Create the output directory if it doesn't exist\n",
    "os.makedirs(output_dir, exist_ok=True)"
   ]
  },
  {
   "cell_type": "code",
   "execution_count": 4,
   "id": "4f04940f",
   "metadata": {},
   "outputs": [
    {
     "name": "stdout",
     "output_type": "stream",
     "text": [
      "Total images: 117\n"
     ]
    }
   ],
   "source": [
    "# Load all image names\n",
    "image_names = sorted(os.listdir(cleaned_images_dir))\n",
    "print(f\"Total images: {len(image_names)}\")"
   ]
  },
  {
   "cell_type": "markdown",
   "id": "2b123972",
   "metadata": {},
   "source": [
    "### Loop over the names"
   ]
  },
  {
   "cell_type": "code",
   "execution_count": 5,
   "id": "1da04ea4",
   "metadata": {},
   "outputs": [
    {
     "name": "stderr",
     "output_type": "stream",
     "text": [
      "Visualizing dataset: 100%|██████████| 117/117 [00:01<00:00, 60.06it/s]"
     ]
    },
    {
     "name": "stdout",
     "output_type": "stream",
     "text": [
      "Visualization complete.\n"
     ]
    },
    {
     "name": "stderr",
     "output_type": "stream",
     "text": [
      "\n"
     ]
    }
   ],
   "source": [
    "# Visualize images and masks side by side\n",
    "for name in tqdm(image_names, desc=\"Visualizing dataset\"):\n",
    "    image_path = os.path.join(cleaned_images_dir, name)\n",
    "    mask_name = os.path.splitext(name)[0] + \".png\"  # Convert to .png for masks\n",
    "    mask_path = os.path.join(masks_dir, mask_name)\n",
    "\n",
    "    # Check if the mask exists before processing\n",
    "    if not os.path.exists(mask_path):\n",
    "        print(f\"Mask not found for {name}, skipping...\")\n",
    "        continue\n",
    "\n",
    "    # Load the image and mask in COLOR mode\n",
    "    x = cv2.imread(image_path, cv2.IMREAD_COLOR)\n",
    "    y = cv2.imread(mask_path, cv2.IMREAD_COLOR)  # Load mask in color\n",
    "\n",
    "    if x is None or y is None:\n",
    "        print(f\"Error loading {name} or corresponding mask\")\n",
    "        continue\n",
    "\n",
    "    # Create a separator line\n",
    "    line = np.ones((x.shape[0], 10, 3), dtype=np.uint8) * 255\n",
    "\n",
    "    # Concatenate the original image with the colored mask\n",
    "    cat_img = np.concatenate([x, line, y], axis=1)\n",
    "\n",
    "    # Save the visualized image\n",
    "    save_path = os.path.join(output_dir, mask_name)\n",
    "    cv2.imwrite(save_path, cat_img)\n",
    "\n",
    "print(\"Visualization complete.\")"
   ]
  }
 ],
 "metadata": {
  "kernelspec": {
   "display_name": "base",
   "language": "python",
   "name": "python3"
  },
  "language_info": {
   "codemirror_mode": {
    "name": "ipython",
    "version": 3
   },
   "file_extension": ".py",
   "mimetype": "text/x-python",
   "name": "python",
   "nbconvert_exporter": "python",
   "pygments_lexer": "ipython3",
   "version": "3.12.2"
  }
 },
 "nbformat": 4,
 "nbformat_minor": 5
}
