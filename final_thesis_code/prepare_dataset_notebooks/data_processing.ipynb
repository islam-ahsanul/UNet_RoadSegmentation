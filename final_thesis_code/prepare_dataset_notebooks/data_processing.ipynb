{
 "cells": [
  {
   "cell_type": "markdown",
   "id": "b916d382",
   "metadata": {},
   "source": [
    "### Data processing\n",
    "\n",
    "1. Dataset loading: images and masks\n",
    "2. Dataset splitting:\n",
    "   1. Taining set\n",
    "   2. Validation set\n",
    "   3. Test set\n",
    "3. Save the dataset"
   ]
  },
  {
   "cell_type": "code",
   "execution_count": 2,
   "id": "b6109d7a",
   "metadata": {},
   "outputs": [],
   "source": [
    "import os\n",
    "import numpy as np\n",
    "import cv2\n",
    "from glob import glob\n",
    "from tqdm import tqdm\n",
    "from sklearn.model_selection import train_test_split"
   ]
  },
  {
   "cell_type": "markdown",
   "id": "2ae9e81a",
   "metadata": {},
   "source": [
    "### Dataset loading: images and masks"
   ]
  },
  {
   "cell_type": "code",
   "execution_count": null,
   "id": "7ecb48f1",
   "metadata": {},
   "outputs": [],
   "source": [
    "def load_dataset(path):\n",
    "    \"\"\"\n",
    "    Load images and masks from the specified directory.\n",
    "    \"\"\"\n",
    "    images = sorted(glob(os.path.join(path, 'cleaned_images', '*.png')))\n",
    "    masks = sorted(glob(os.path.join(path, 'masks', '*.png')))\n",
    "    return images, masks"
   ]
  },
  {
   "cell_type": "markdown",
   "id": "1948247a",
   "metadata": {},
   "source": [
    "### Dataset split"
   ]
  },
  {
   "cell_type": "code",
   "execution_count": null,
   "id": "3e0cc2a1",
   "metadata": {},
   "outputs": [],
   "source": [
    "def split_dataset(images, masks, split=0.2):\n",
    "    \"\"\"\n",
    "    Split dataset into training, validation, and test sets.\n",
    "    \"\"\"\n",
    "    train_x, valid_x, train_y, valid_y = train_test_split(images, masks, test_size=split, random_state=42)\n",
    "    train_x, test_x, train_y, test_y = train_test_split(train_x, train_y, test_size=split, random_state=42)\n",
    "    return (train_x, train_y), (valid_x, valid_y), (test_x, test_y)"
   ]
  },
  {
   "cell_type": "markdown",
   "id": "db7df63b",
   "metadata": {},
   "source": [
    "### Save the dataset\n"
   ]
  },
  {
   "cell_type": "markdown",
   "id": "f854189c",
   "metadata": {},
   "source": [
    "#### Creating folders"
   ]
  },
  {
   "cell_type": "code",
   "execution_count": null,
   "id": "a4753ca4",
   "metadata": {},
   "outputs": [],
   "source": [
    "def create_dirs(path):\n",
    "    \"\"\"\n",
    "    Create necessary directories if they don't exist.\n",
    "    \"\"\"\n",
    "    if not os.path.exists(path):\n",
    "        os.makedirs(path)"
   ]
  },
  {
   "cell_type": "code",
   "execution_count": null,
   "id": "96258211",
   "metadata": {},
   "outputs": [],
   "source": [
    "def save_dataset(images, masks, save_dir):\n",
    "    \"\"\"\n",
    "    Save images and masks to specified directory.\n",
    "    \"\"\"\n",
    "    for x, y in tqdm(zip(images, masks), total=len(images)):\n",
    "        name = os.path.basename(x)\n",
    "        img = cv2.imread(x, cv2.IMREAD_COLOR)\n",
    "        mask = cv2.imread(y, cv2.IMREAD_GRAYSCALE)\n",
    "\n",
    "        cv2.imwrite(os.path.join(save_dir, 'images', name), img)\n",
    "        cv2.imwrite(os.path.join(save_dir, 'masks', name), mask)"
   ]
  },
  {
   "cell_type": "code",
   "execution_count": 1,
   "id": "9d6ddee7",
   "metadata": {},
   "outputs": [],
   "source": [
    "s = \"/home/ahsan/University/Thesis/UNet_Directory/Datasets/segmentation_dataset_path/images/1.png\""
   ]
  },
  {
   "cell_type": "code",
   "execution_count": 2,
   "id": "53429c5f",
   "metadata": {},
   "outputs": [
    {
     "name": "stdout",
     "output_type": "stream",
     "text": [
      "1.png\n"
     ]
    }
   ],
   "source": [
    "name = s.split(\"/\")[-1]\n",
    "print(name)"
   ]
  },
  {
   "cell_type": "markdown",
   "id": "86c27b44",
   "metadata": {},
   "source": [
    "### Executing the program"
   ]
  },
  {
   "cell_type": "markdown",
   "id": "19fc4866",
   "metadata": {},
   "source": [
    "#### Loading the dataset"
   ]
  },
  {
   "cell_type": "code",
   "execution_count": null,
   "id": "4de7e56f",
   "metadata": {},
   "outputs": [],
   "source": [
    "dataset_path = '/path/to/dataset'"
   ]
  },
  {
   "cell_type": "code",
   "execution_count": null,
   "id": "6df9858e",
   "metadata": {},
   "outputs": [],
   "source": [
    "images, masks = load_dataset(dataset_path)\n",
    "print(f\"Loaded {len(images)} images and {len(masks)} masks\")"
   ]
  },
  {
   "cell_type": "code",
   "execution_count": null,
   "id": "d56828bb",
   "metadata": {},
   "outputs": [],
   "source": [
    "# for x, y in zip(images, masks):\n",
    "#     print(x, y)\n",
    "#     break\n"
   ]
  },
  {
   "cell_type": "markdown",
   "id": "6457c03a",
   "metadata": {},
   "source": [
    "### Visualize the images and masks\n"
   ]
  },
  {
   "cell_type": "code",
   "execution_count": null,
   "id": "fc9b54a1",
   "metadata": {},
   "outputs": [],
   "source": [
    "# from imshow import imshow\n",
    "\n",
    "# cat = []\n",
    "# for x, y in zip(images[:6], masks[:6]):\n",
    "#     x = cv2.imread(x, cv2.IMREAD_COLOR)\n",
    "#     x = cv2.cvtColor(x, cv2.COLOR_BGR2RGB)\n",
    "#     y = cv2.imread(y, cv2.IMREAD_COLOR)\n",
    "#     y = cv2.cvtColor(y, cv2.COLOR_BGR2RGB)\n",
    "#     z = np.concatenate([x, y], axis=1)\n",
    "#     cat.append(z)\n",
    "# imshow(*cat, size=(20, 10), columns=3)"
   ]
  },
  {
   "cell_type": "markdown",
   "id": "eb478fe7",
   "metadata": {},
   "source": [
    "### Dataset splitting execution\n"
   ]
  },
  {
   "cell_type": "code",
   "execution_count": null,
   "id": "35f1b04a",
   "metadata": {},
   "outputs": [],
   "source": [
    "(train_x, train_y), (valid_x, valid_y), (test_x, test_y) = split_dataset(images, masks)\n"
   ]
  },
  {
   "cell_type": "code",
   "execution_count": null,
   "id": "fc4be24d",
   "metadata": {},
   "outputs": [],
   "source": [
    "# print(f\"Train: {len(train_x)} images and {len(train_y)} masks\")\n",
    "# print(f\"Validation: {len(valid_x)} images and {len(valid_y)} masks\")\n",
    "# print(f\"Test: {len(test_x)} images and {len(test_y)} masks\")"
   ]
  },
  {
   "cell_type": "markdown",
   "id": "eb7e1494",
   "metadata": {},
   "source": [
    "## Saving the dataset Execution"
   ]
  },
  {
   "cell_type": "markdown",
   "id": "8cb1d083",
   "metadata": {},
   "source": [
    "### 1. Creating folders"
   ]
  },
  {
   "cell_type": "code",
   "execution_count": null,
   "id": "3aa4a2d7",
   "metadata": {},
   "outputs": [],
   "source": [
    "save_dir = os.path.join(dataset_path, 'processed')\n",
    "for item in ['train', 'valid', 'test']:\n",
    "    create_dirs(os.path.join(save_dir, item, 'images'))\n",
    "    create_dirs(os.path.join(save_dir, item, 'masks'))"
   ]
  },
  {
   "cell_type": "markdown",
   "id": "a5a3d37e",
   "metadata": {},
   "source": [
    "### 2. Saving the training dataset"
   ]
  },
  {
   "cell_type": "code",
   "execution_count": null,
   "id": "94d4802c",
   "metadata": {},
   "outputs": [],
   "source": [
    "save_dataset(train_x, train_y, os.path.join(save_dir, 'train'))"
   ]
  },
  {
   "cell_type": "markdown",
   "id": "566a7370",
   "metadata": {},
   "source": [
    "### 3. Saving the validation dataset"
   ]
  },
  {
   "cell_type": "code",
   "execution_count": null,
   "id": "a6ee9e9b",
   "metadata": {},
   "outputs": [],
   "source": [
    "save_dataset(valid_x, valid_y, os.path.join(save_dir, 'valid'))"
   ]
  },
  {
   "cell_type": "markdown",
   "id": "33295972",
   "metadata": {},
   "source": [
    "### 4. Saving the test dataset"
   ]
  },
  {
   "cell_type": "code",
   "execution_count": null,
   "id": "c9927f25",
   "metadata": {},
   "outputs": [],
   "source": [
    "save_dataset(test_x, test_y, os.path.join(save_dir, 'test'))"
   ]
  }
 ],
 "metadata": {
  "kernelspec": {
   "display_name": "base",
   "language": "python",
   "name": "python3"
  },
  "language_info": {
   "codemirror_mode": {
    "name": "ipython",
    "version": 3
   },
   "file_extension": ".py",
   "mimetype": "text/x-python",
   "name": "python",
   "nbconvert_exporter": "python",
   "pygments_lexer": "ipython3",
   "version": "3.12.2"
  }
 },
 "nbformat": 4,
 "nbformat_minor": 5
}
