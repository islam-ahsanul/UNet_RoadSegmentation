{
 "cells": [
  {
   "cell_type": "markdown",
   "id": "b916d382",
   "metadata": {},
   "source": [
    "### Data processing\n",
    "\n",
    "1. Dataset loading: images and masks\n",
    "2. Dataset splitting:\n",
    "   1. Taining set\n",
    "   2. Validation set\n",
    "   3. Test set\n",
    "3. Save the dataset"
   ]
  },
  {
   "cell_type": "code",
   "execution_count": 1,
   "id": "b6109d7a",
   "metadata": {},
   "outputs": [],
   "source": [
    "import os\n",
    "import numpy as np\n",
    "import cv2\n",
    "from glob import glob\n",
    "from tqdm import tqdm\n",
    "from sklearn.model_selection import train_test_split"
   ]
  },
  {
   "cell_type": "markdown",
   "id": "2ae9e81a",
   "metadata": {},
   "source": [
    "### Dataset loading: images and masks"
   ]
  },
  {
   "cell_type": "code",
   "execution_count": 10,
   "id": "7ecb48f1",
   "metadata": {},
   "outputs": [],
   "source": [
    "def load_dataset(path):\n",
    "    \"\"\"\n",
    "    Load images and masks from the specified directory.\n",
    "    \"\"\"\n",
    "    images = sorted(glob(os.path.join(path, 'images', '*.png')))\n",
    "    masks = sorted(glob(os.path.join(path, 'masks', '*.png')))\n",
    "    \n",
    "    if not images or not masks:\n",
    "        raise ValueError(\"No images or masks found. Check your dataset paths.\")\n",
    "    \n",
    "    return images, masks"
   ]
  },
  {
   "cell_type": "markdown",
   "id": "1948247a",
   "metadata": {},
   "source": [
    "### Dataset split"
   ]
  },
  {
   "cell_type": "code",
   "execution_count": 11,
   "id": "3e0cc2a1",
   "metadata": {},
   "outputs": [],
   "source": [
    "def split_dataset(images, masks, split=0.2):\n",
    "    \"\"\"\n",
    "    Split dataset into training, validation, and test sets.\n",
    "    \"\"\"\n",
    "    train_x, valid_x, train_y, valid_y = train_test_split(images, masks, test_size=split, random_state=42)\n",
    "    train_x, test_x, train_y, test_y = train_test_split(train_x, train_y, test_size=split, random_state=42)\n",
    "    return (train_x, train_y), (valid_x, valid_y), (test_x, test_y)"
   ]
  },
  {
   "cell_type": "markdown",
   "id": "db7df63b",
   "metadata": {},
   "source": [
    "### Save the dataset\n"
   ]
  },
  {
   "cell_type": "markdown",
   "id": "f854189c",
   "metadata": {},
   "source": [
    "#### Creating folders"
   ]
  },
  {
   "cell_type": "code",
   "execution_count": 12,
   "id": "a4753ca4",
   "metadata": {},
   "outputs": [],
   "source": [
    "def create_dirs(path):\n",
    "    \"\"\"\n",
    "    Create necessary directories if they don't exist.\n",
    "    \"\"\"\n",
    "    os.makedirs(path, exist_ok=True)"
   ]
  },
  {
   "cell_type": "code",
   "execution_count": 13,
   "id": "96258211",
   "metadata": {},
   "outputs": [],
   "source": [
    "def save_dataset(images, masks, save_dir):\n",
    "    \"\"\"\n",
    "    Save images and masks to specified directory.\n",
    "    \"\"\"\n",
    "    for x, y in tqdm(zip(images, masks), total=len(images), desc=f\"Saving dataset in {save_dir}\"):\n",
    "        name = os.path.basename(x)\n",
    "        img = cv2.imread(x, cv2.IMREAD_COLOR)  # Keep images in color\n",
    "        mask = cv2.imread(y, cv2.IMREAD_GRAYSCALE)  # Read mask as grayscale\n",
    "\n",
    "        if img is None or mask is None:\n",
    "            print(f\"Warning: Issue loading {x} or {y}, skipping...\")\n",
    "            continue\n",
    "\n",
    "        cv2.imwrite(os.path.join(save_dir, 'images', name), img)\n",
    "        cv2.imwrite(os.path.join(save_dir, 'masks', name), mask)"
   ]
  },
  {
   "cell_type": "code",
   "execution_count": 6,
   "id": "9d6ddee7",
   "metadata": {},
   "outputs": [],
   "source": [
    "s = \"/home/ahsan/University/Thesis/UNet_Directory/Datasets/segmentation_dataset_path/images/1.png\""
   ]
  },
  {
   "cell_type": "code",
   "execution_count": 7,
   "id": "53429c5f",
   "metadata": {},
   "outputs": [
    {
     "name": "stdout",
     "output_type": "stream",
     "text": [
      "1.png\n"
     ]
    }
   ],
   "source": [
    "name = s.split(\"/\")[-1]\n",
    "print(name)"
   ]
  },
  {
   "cell_type": "markdown",
   "id": "86c27b44",
   "metadata": {},
   "source": [
    "### Executing the program"
   ]
  },
  {
   "cell_type": "markdown",
   "id": "19fc4866",
   "metadata": {},
   "source": [
    "#### Loading the dataset"
   ]
  },
  {
   "cell_type": "code",
   "execution_count": 14,
   "id": "4de7e56f",
   "metadata": {},
   "outputs": [],
   "source": [
    "dataset_path = '/home/ahsan/University/Thesis/UNet_Directory/Datasets/second_phase/working_dataset'"
   ]
  },
  {
   "cell_type": "code",
   "execution_count": 15,
   "id": "6df9858e",
   "metadata": {},
   "outputs": [],
   "source": [
    "images, masks = load_dataset(dataset_path)"
   ]
  },
  {
   "cell_type": "markdown",
   "id": "eb478fe7",
   "metadata": {},
   "source": [
    "### Dataset splitting execution\n"
   ]
  },
  {
   "cell_type": "code",
   "execution_count": 16,
   "id": "35f1b04a",
   "metadata": {},
   "outputs": [],
   "source": [
    "# Split dataset\n",
    "(train_x, train_y), (valid_x, valid_y), (test_x, test_y) = split_dataset(images, masks)"
   ]
  },
  {
   "cell_type": "code",
   "execution_count": null,
   "id": "fc4be24d",
   "metadata": {},
   "outputs": [],
   "source": [
    "# print(f\"Train: {len(train_x)} images and {len(train_y)} masks\")\n",
    "# print(f\"Validation: {len(valid_x)} images and {len(valid_y)} masks\")\n",
    "# print(f\"Test: {len(test_x)} images and {len(test_y)} masks\")"
   ]
  },
  {
   "cell_type": "markdown",
   "id": "eb7e1494",
   "metadata": {},
   "source": [
    "## Saving the dataset Execution"
   ]
  },
  {
   "cell_type": "markdown",
   "id": "8cb1d083",
   "metadata": {},
   "source": [
    "### 1. Creating folders"
   ]
  },
  {
   "cell_type": "code",
   "execution_count": 17,
   "id": "3aa4a2d7",
   "metadata": {},
   "outputs": [],
   "source": [
    "# Create directories for saving splits\n",
    "save_path = '/home/ahsan/University/Thesis/UNet_Directory/Datasets/second_phase/processed_dataset'\n",
    "processed_dir = os.path.join(save_path, 'non-aug')\n",
    "for split in ['train', 'valid', 'test']:\n",
    "    create_dirs(os.path.join(processed_dir, split, 'images'))\n",
    "    create_dirs(os.path.join(processed_dir, split, 'masks'))"
   ]
  },
  {
   "cell_type": "code",
   "execution_count": 18,
   "id": "85f8452e",
   "metadata": {},
   "outputs": [
    {
     "name": "stderr",
     "output_type": "stream",
     "text": [
      "Saving dataset in /home/ahsan/University/Thesis/UNet_Directory/Datasets/second_phase/processed_dataset/non-aug/train: 100%|██████████| 74/74 [00:01<00:00, 63.72it/s]\n",
      "Saving dataset in /home/ahsan/University/Thesis/UNet_Directory/Datasets/second_phase/processed_dataset/non-aug/valid: 100%|██████████| 24/24 [00:00<00:00, 68.78it/s]\n",
      "Saving dataset in /home/ahsan/University/Thesis/UNet_Directory/Datasets/second_phase/processed_dataset/non-aug/test: 100%|██████████| 19/19 [00:00<00:00, 69.97it/s]\n"
     ]
    }
   ],
   "source": [
    "# Save datasets\n",
    "save_dataset(train_x, train_y, os.path.join(processed_dir, 'train'))\n",
    "save_dataset(valid_x, valid_y, os.path.join(processed_dir, 'valid'))\n",
    "save_dataset(test_x, test_y, os.path.join(processed_dir, 'test'))"
   ]
  }
 ],
 "metadata": {
  "kernelspec": {
   "display_name": "base",
   "language": "python",
   "name": "python3"
  },
  "language_info": {
   "codemirror_mode": {
    "name": "ipython",
    "version": 3
   },
   "file_extension": ".py",
   "mimetype": "text/x-python",
   "name": "python",
   "nbconvert_exporter": "python",
   "pygments_lexer": "ipython3",
   "version": "3.12.2"
  }
 },
 "nbformat": 4,
 "nbformat_minor": 5
}
