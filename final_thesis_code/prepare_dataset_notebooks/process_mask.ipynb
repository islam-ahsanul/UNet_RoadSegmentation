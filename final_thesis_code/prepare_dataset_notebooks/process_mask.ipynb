{
 "cells": [
  {
   "cell_type": "markdown",
   "id": "6918d6ff",
   "metadata": {},
   "source": [
    "### Process json to mask"
   ]
  },
  {
   "cell_type": "code",
   "execution_count": 2,
   "id": "669f5354-42ce-4c8b-8211-4dcc8032b771",
   "metadata": {},
   "outputs": [],
   "source": [
    "import numpy as np\n",
    "import cv2\n",
    "import json"
   ]
  },
  {
   "cell_type": "code",
   "execution_count": null,
   "id": "767d6eb9",
   "metadata": {},
   "outputs": [],
   "source": [
    "# Load annotation JSON\n",
    "with open('/home/ahsan/University/Thesis/UNet_Directory/Datasets/annotated_json/annotations.json', 'r') as f:\n",
    "    data = json.load(f)\n",
    "print(data)"
   ]
  },
  {
   "cell_type": "markdown",
   "id": "2f4f9e37",
   "metadata": {},
   "source": [
    "### Folders"
   ]
  },
  {
   "cell_type": "code",
   "execution_count": null,
   "id": "8e107ac1",
   "metadata": {},
   "outputs": [],
   "source": [
    "# Paths for images and masks\n",
    "img_dir = \"/home/ahsan/University/Thesis/UNet_Directory/Datasets/cleaned_images/\"  # Directory containing cleaned images\n",
    "mask_dir = \"/home/ahsan/University/Thesis/UNet_Directory/Datasets/mask_images\"         # Directory to save generated masks"
   ]
  },
  {
   "cell_type": "markdown",
   "id": "68a569c8",
   "metadata": {},
   "source": [
    "### Images and annotations"
   ]
  },
  {
   "cell_type": "code",
   "execution_count": null,
   "id": "6ffd394a",
   "metadata": {},
   "outputs": [],
   "source": [
    "images = data['images']\n",
    "annotations = data['annotations']\n",
    "categories = {cat['id']: cat['name'] for cat in data['categories']}"
   ]
  },
  {
   "cell_type": "code",
   "execution_count": null,
   "id": "0fde337d",
   "metadata": {},
   "outputs": [],
   "source": [
    "print(images)\n",
    "print(annotations)\n",
    "print(categories)\n"
   ]
  },
  {
   "cell_type": "markdown",
   "id": "7bb28ca0",
   "metadata": {},
   "source": [
    "### Loop over data and save the masks"
   ]
  },
  {
   "cell_type": "code",
   "execution_count": null,
   "id": "752f0dc8",
   "metadata": {},
   "outputs": [],
   "source": [
    "# Generate masks\n",
    "for image in images:\n",
    "    filename = image['file_name']\n",
    "    height, width = image['height'], image['width']\n",
    "\n",
    "    # Initialize mask with background (0)\n",
    "    mask = np.zeros((height, width), dtype=np.uint8)\n",
    "\n",
    "    # Process annotations for the image\n",
    "    for annotation in [a for a in annotations if a['image_id'] == image['id']]:\n",
    "        category_id = annotation['category_id']\n",
    "        segmentation = annotation['segmentation']\n",
    "\n",
    "        # Draw polygons on the mask\n",
    "        for points in segmentation:\n",
    "            contours = []\n",
    "            for i in range(0, len(points), 2):\n",
    "                contours.append([points[i], points[i + 1]])\n",
    "            contours = np.array(contours, dtype=np.int32)\n",
    "            cv2.drawContours(mask, [contours], -1, category_id, -1)\n",
    "\n",
    "    # Save the mask in .png format\n",
    "    cv2.imwrite(f\"{mask_dir}/{filename.split('.')[0]}.png\", mask)"
   ]
  }
 ],
 "metadata": {
  "kernelspec": {
   "display_name": "base",
   "language": "python",
   "name": "python3"
  },
  "language_info": {
   "codemirror_mode": {
    "name": "ipython",
    "version": 3
   },
   "file_extension": ".py",
   "mimetype": "text/x-python",
   "name": "python",
   "nbconvert_exporter": "python",
   "pygments_lexer": "ipython3",
   "version": "3.12.2"
  }
 },
 "nbformat": 4,
 "nbformat_minor": 5
}
