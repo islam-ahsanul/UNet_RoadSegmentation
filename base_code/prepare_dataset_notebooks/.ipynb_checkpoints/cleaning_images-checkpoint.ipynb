{
 "cells": [
  {
   "cell_type": "code",
   "execution_count": 10,
   "id": "b65f8d84-4038-4ee1-933d-c3dc21178567",
   "metadata": {},
   "outputs": [],
   "source": [
    "import numpy as np\n",
    "import cv2\n",
    "from glob import glob\n",
    "from tqdm import tqdm"
   ]
  },
  {
   "cell_type": "markdown",
   "id": "f63d8126-5229-4342-bf80-47cef97554c9",
   "metadata": {},
   "source": [
    "### **Filter images: Size**"
   ]
  },
  {
   "cell_type": "code",
   "execution_count": 4,
   "id": "4b66d56e-080d-4d64-b071-5ad4d7518bd7",
   "metadata": {},
   "outputs": [],
   "source": [
    "def filter_images_by_size(images, min_size=768):\n",
    "    output = []\n",
    "\n",
    "    for img in tqdm(images, total=len(images)):\n",
    "        x = cv2.imread(img, cv2.IMREAD_COLOR)\n",
    "\n",
    "        h, w, c = x.shape\n",
    "        if h > min_size and w > min_size:\n",
    "            output.append(img)\n",
    "    return output"
   ]
  },
  {
   "cell_type": "markdown",
   "id": "b178f4f6-9820-47df-87df-d064b86efd56",
   "metadata": {},
   "source": [
    "### **Filter Image: Potrait**"
   ]
  },
  {
   "cell_type": "code",
   "execution_count": 11,
   "id": "84421e28-c9a5-437d-93e2-b63956666a7e",
   "metadata": {},
   "outputs": [],
   "source": [
    "def filter_images_by_potrait(images):\n",
    "    output = []\n",
    "\n",
    "    for img in tqdm(images, total=len(images)):\n",
    "        x = cv2.imread(img, cv2.IMREAD_COLOR)\n",
    "\n",
    "        h, w, c = x.shape\n",
    "        if h > w:\n",
    "            output.append(img)\n",
    "\n",
    "    return output"
   ]
  },
  {
   "cell_type": "markdown",
   "id": "8132d84f-fcd4-4a30-9847-4696e7e87445",
   "metadata": {},
   "source": [
    "### **Resize and saving the images**\n"
   ]
  },
  {
   "cell_type": "code",
   "execution_count": 20,
   "id": "ba607db2",
   "metadata": {},
   "outputs": [],
   "source": [
    "def save_images(images, save_dir, size=(768, 512)):\n",
    "    idx = 1\n",
    "\n",
    "    for path in tqdm(images, total=len(images)):\n",
    "        x = cv2.imread(path, cv2.IMREAD_COLOR)\n",
    "        scale = 20\n",
    "        h = int(x.shape[0] * scale / 100)\n",
    "        w = int(x.shape[1] * scale / 100)\n",
    "        x = cv2.resize(x, (w, h))\n",
    "\n",
    "        if x.shape[0] > size[0] and x.shape[1] > size[1]:\n",
    "            x = x[0:size[0], 0:size[1], :]\n",
    "            # print(x.shape)\n",
    "\n",
    "\n",
    "\n",
    "        # cv2.imwrite(f'{save_dir}/{idx:04d}.jpg', x)\n",
    "        cv2.imwrite(f'{save_dir}/{idx}.jpg', x)\n",
    "        idx += 1"
   ]
  },
  {
   "cell_type": "markdown",
   "id": "5c58d858-1025-4f52-917d-61afe3d207fd",
   "metadata": {},
   "source": [
    "### **Executing the program**"
   ]
  },
  {
   "cell_type": "code",
   "execution_count": 6,
   "id": "6ddc5275-9f9f-4b5d-bad5-c58c5ae50d07",
   "metadata": {},
   "outputs": [
    {
     "name": "stdout",
     "output_type": "stream",
     "text": [
      "initial images:  5\n"
     ]
    }
   ],
   "source": [
    "raw_images = glob(\"/home/ahsan/University/Thesis/UNet_Directory/Datasets/face/*\")\n",
    "print(\"initial images: \", len(raw_images))"
   ]
  },
  {
   "cell_type": "code",
   "execution_count": 7,
   "id": "66f4b10b-a6c6-4409-b830-a517bd1bc177",
   "metadata": {},
   "outputs": [
    {
     "name": "stderr",
     "output_type": "stream",
     "text": [
      "100%|██████████| 5/5 [00:01<00:00,  4.14it/s]"
     ]
    },
    {
     "name": "stdout",
     "output_type": "stream",
     "text": [
      "Filter by size:  5\n"
     ]
    },
    {
     "name": "stderr",
     "output_type": "stream",
     "text": [
      "\n"
     ]
    }
   ],
   "source": [
    "output = filter_images_by_size(raw_images, min_size=512)\n",
    "print(\"Filter by size: \", len(output))"
   ]
  },
  {
   "cell_type": "code",
   "execution_count": 15,
   "id": "95e67ee9",
   "metadata": {},
   "outputs": [
    {
     "name": "stderr",
     "output_type": "stream",
     "text": [
      "100%|██████████| 3/3 [00:00<00:00,  3.65it/s]"
     ]
    },
    {
     "name": "stdout",
     "output_type": "stream",
     "text": [
      "Filter by potrait:  3\n"
     ]
    },
    {
     "name": "stderr",
     "output_type": "stream",
     "text": [
      "\n"
     ]
    }
   ],
   "source": [
    "output = filter_images_by_potrait(output)\n",
    "print(\"Filter by potrait: \", len(output))"
   ]
  },
  {
   "cell_type": "code",
   "execution_count": 21,
   "id": "7d35a08e",
   "metadata": {},
   "outputs": [
    {
     "name": "stderr",
     "output_type": "stream",
     "text": [
      "100%|██████████| 3/3 [00:00<00:00,  3.25it/s]\n"
     ]
    }
   ],
   "source": [
    "save_images(output, '/home/ahsan/University/Thesis/UNet_Directory/Datasets/face_cleaned_images')"
   ]
  },
  {
   "cell_type": "code",
   "execution_count": 22,
   "id": "31b800f7",
   "metadata": {},
   "outputs": [
    {
     "name": "stdout",
     "output_type": "stream",
     "text": [
      "Cleaned images:  3\n"
     ]
    }
   ],
   "source": [
    "clean_images = glob(\"/home/ahsan/University/Thesis/UNet_Directory/Datasets/face_cleaned_images/*\")\n",
    "print(\"Cleaned images: \", len(clean_images))"
   ]
  }
 ],
 "metadata": {
  "kernelspec": {
   "display_name": "base",
   "language": "python",
   "name": "python3"
  },
  "language_info": {
   "codemirror_mode": {
    "name": "ipython",
    "version": 3
   },
   "file_extension": ".py",
   "mimetype": "text/x-python",
   "name": "python",
   "nbconvert_exporter": "python",
   "pygments_lexer": "ipython3",
   "version": "3.12.2"
  }
 },
 "nbformat": 4,
 "nbformat_minor": 5
}
