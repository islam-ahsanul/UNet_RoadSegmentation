{
 "cells": [
  {
   "cell_type": "markdown",
   "id": "6918d6ff",
   "metadata": {},
   "source": [
    "### Process json to mask"
   ]
  },
  {
   "cell_type": "code",
   "execution_count": 2,
   "id": "669f5354-42ce-4c8b-8211-4dcc8032b771",
   "metadata": {},
   "outputs": [],
   "source": [
    "import numpy as np\n",
    "import cv2\n",
    "import json"
   ]
  },
  {
   "cell_type": "code",
   "execution_count": null,
   "id": "767d6eb9",
   "metadata": {},
   "outputs": [],
   "source": [
    "f = open('data.json', 'r')\n",
    "data = json.load(f)\n",
    "print(data)"
   ]
  },
  {
   "cell_type": "markdown",
   "id": "2f4f9e37",
   "metadata": {},
   "source": [
    "### Folders"
   ]
  },
  {
   "cell_type": "code",
   "execution_count": null,
   "id": "8e107ac1",
   "metadata": {},
   "outputs": [],
   "source": [
    "img_dir = \"/home/ahsan/University/Thesis/UNet_Directory/Datasets/face_cleaned_images/\"\n",
    "mask_dir = \"/home/ahsan/University/Thesis/UNet_Directory/Datasets/mask_images/\""
   ]
  },
  {
   "cell_type": "markdown",
   "id": "68a569c8",
   "metadata": {},
   "source": [
    "### Images and annotations"
   ]
  },
  {
   "cell_type": "code",
   "execution_count": null,
   "id": "6ffd394a",
   "metadata": {},
   "outputs": [],
   "source": [
    "images = data['images']\n",
    "annots = data['annotations']"
   ]
  },
  {
   "cell_type": "code",
   "execution_count": null,
   "id": "0fde337d",
   "metadata": {},
   "outputs": [],
   "source": [
    "print(images)\n",
    "print(annots)"
   ]
  },
  {
   "cell_type": "markdown",
   "id": "7bb28ca0",
   "metadata": {},
   "source": [
    "### Loop over data and save the masks"
   ]
  },
  {
   "cell_type": "code",
   "execution_count": null,
   "id": "752f0dc8",
   "metadata": {},
   "outputs": [],
   "source": [
    "for x, y in zip(images, annots):\n",
    "    filename = x['file_name']\n",
    "    h = x['height']\n",
    "    w = x['width']\n",
    "    \n",
    "    mask = np.zeros((h, w))\n",
    "    seg = y['segmentation']\n",
    "    for points in seg:\n",
    "        contours = []\n",
    "        \n",
    "        for i in range(0, len(points), 2):\n",
    "            contours.append([points[i], points[i+1]])\n",
    "        \n",
    "        contours = np.array(contours, dtype=np.int32)\n",
    "        cv2.drawContours(mask, [contours], -1, 255, -1)\n",
    "    \n",
    "    cv2.imwrite(f\"{mask_dir}/{filename}\", mask)\n",
    "        "
   ]
  }
 ],
 "metadata": {
  "kernelspec": {
   "display_name": "base",
   "language": "python",
   "name": "python3"
  },
  "language_info": {
   "codemirror_mode": {
    "name": "ipython",
    "version": 3
   },
   "file_extension": ".py",
   "mimetype": "text/x-python",
   "name": "python",
   "nbconvert_exporter": "python",
   "pygments_lexer": "ipython3",
   "version": "3.12.2"
  }
 },
 "nbformat": 4,
 "nbformat_minor": 5
}
