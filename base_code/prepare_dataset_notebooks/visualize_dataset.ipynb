{
 "cells": [
  {
   "cell_type": "markdown",
   "id": "0c220fd3",
   "metadata": {},
   "source": [
    "### Visualize dataset\n"
   ]
  },
  {
   "cell_type": "code",
   "execution_count": 1,
   "id": "189e5e59",
   "metadata": {},
   "outputs": [],
   "source": [
    "import os\n",
    "import numpy as np\n",
    "import cv2\n",
    "from tqdm import tqdm"
   ]
  },
  {
   "cell_type": "markdown",
   "id": "1ee8d1ab",
   "metadata": {},
   "source": [
    "### Load all the image names"
   ]
  },
  {
   "cell_type": "code",
   "execution_count": 2,
   "id": "17455b8c",
   "metadata": {},
   "outputs": [],
   "source": [
    "image_names = sorted(os.listdir('/home/ahsan/University/Thesis/UNet_Directory/Datasets/face_cleaned_images'))"
   ]
  },
  {
   "cell_type": "code",
   "execution_count": 3,
   "id": "ff988e81",
   "metadata": {},
   "outputs": [
    {
     "name": "stdout",
     "output_type": "stream",
     "text": [
      "['1.jpg', '2.jpg', '3.jpg']\n"
     ]
    }
   ],
   "source": [
    "print(image_names)"
   ]
  },
  {
   "cell_type": "markdown",
   "id": "2b123972",
   "metadata": {},
   "source": [
    "### Loop over the names"
   ]
  },
  {
   "cell_type": "code",
   "execution_count": null,
   "id": "1da04ea4",
   "metadata": {},
   "outputs": [],
   "source": [
    "for name in tqdm(image_names):\n",
    "    image_path = '/home/ahsan/University/Thesis/UNet_Directory/Datasets/face_cleaned_images/' + name\n",
    "    mask_path = '/home/ahsan/University/Thesis/UNet_Directory/Datasets/mask_images/' + name\n",
    "    \n",
    "    x = cv2.imread(image_path, cv2.IMREAD_COLOR)\n",
    "    y = cv2.imread(mask_path, cv2.IMREAD_COLOR)\n",
    "    # print(x.shape, y.shape)\n",
    "    \n",
    "    line = np.ones((x.shape[0], 10, 3)) * 255\n",
    "    \n",
    "    f_img = x * (y/255)\n",
    "    b_img = x * (1 - y/255)\n",
    "    \n",
    "    cat_img = np.concatenate([x,line, y, line, f_img, line, b_img], axis=1)\n",
    "    cv2.imwrite(f\"/home/ahsan/University/Thesis/UNet_Directory/Datasets/cat_img/{name}\", cat_img)"
   ]
  }
 ],
 "metadata": {
  "kernelspec": {
   "display_name": "base",
   "language": "python",
   "name": "python3"
  },
  "language_info": {
   "codemirror_mode": {
    "name": "ipython",
    "version": 3
   },
   "file_extension": ".py",
   "mimetype": "text/x-python",
   "name": "python",
   "nbconvert_exporter": "python",
   "pygments_lexer": "ipython3",
   "version": "3.12.2"
  }
 },
 "nbformat": 4,
 "nbformat_minor": 5
}
