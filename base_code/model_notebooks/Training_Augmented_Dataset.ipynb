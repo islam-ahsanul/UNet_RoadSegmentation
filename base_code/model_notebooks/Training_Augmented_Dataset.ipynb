{
 "cells": [
  {
   "cell_type": "markdown",
   "id": "ebffb22d",
   "metadata": {},
   "source": [
    "### Training the UNet model on the original dataset\n"
   ]
  },
  {
   "cell_type": "code",
   "execution_count": 1,
   "id": "86d80e90",
   "metadata": {},
   "outputs": [
    {
     "name": "stderr",
     "output_type": "stream",
     "text": [
      "2025-01-21 17:43:34.475001: I tensorflow/core/util/port.cc:153] oneDNN custom operations are on. You may see slightly different numerical results due to floating-point round-off errors from different computation orders. To turn them off, set the environment variable `TF_ENABLE_ONEDNN_OPTS=0`.\n",
      "2025-01-21 17:43:34.492357: I tensorflow/core/platform/cpu_feature_guard.cc:210] This TensorFlow binary is optimized to use available CPU instructions in performance-critical operations.\n",
      "To enable the following instructions: SSE4.1 SSE4.2 AVX AVX2 AVX512F AVX512_VNNI AVX512_BF16 FMA, in other operations, rebuild TensorFlow with the appropriate compiler flags.\n"
     ]
    }
   ],
   "source": [
    "import os\n",
    "import numpy as np\n",
    "import cv2\n",
    "from glob import glob\n",
    "import tensorflow as tf\n",
    "from tensorflow.keras.layers import Conv2D, BatchNormalization, MaxPooling2D, UpSampling2D, concatenate, Activation, Conv2DTranspose\n",
    "from tensorflow.keras.models import Model\n",
    "from tensorflow.keras.callbacks import EarlyStopping, ModelCheckpoint, ReduceLROnPlateau, CSVLogger"
   ]
  },
  {
   "cell_type": "markdown",
   "id": "3ce14344",
   "metadata": {},
   "source": [
    "### Seeding"
   ]
  },
  {
   "cell_type": "code",
   "execution_count": 2,
   "id": "fcf094bb",
   "metadata": {},
   "outputs": [],
   "source": [
    "os.environ[\"PYTHONHASHSEED\"] = str(42)\n",
    "np.random.seed(42)\n",
    "tf.random.set_seed(42)\n"
   ]
  },
  {
   "cell_type": "markdown",
   "id": "cbcac637",
   "metadata": {},
   "source": [
    "### Hyperparameters"
   ]
  },
  {
   "cell_type": "code",
   "execution_count": 3,
   "id": "3fafb186",
   "metadata": {},
   "outputs": [],
   "source": [
    "batch_size = 8\n",
    "lr = 1e-4 ## 0.0001\n",
    "epochs = 100\n",
    "height = 768\n",
    "width = 512"
   ]
  },
  {
   "cell_type": "markdown",
   "id": "e0dd5af5",
   "metadata": {},
   "source": [
    "### Path"
   ]
  },
  {
   "cell_type": "code",
   "execution_count": 4,
   "id": "ca42e2c9",
   "metadata": {},
   "outputs": [],
   "source": [
    "dataset_path = os.path.join(\"/home/ahsan/University/Thesis/UNet_Directory/Datasets/segmentation_dataset_path\", \"aug\")\n",
    "files_dir = os.path.join(\"/home/ahsan/University/Thesis/UNet_Directory/Datasets/files\", \"aug\")\n",
    "\n",
    "model_file = os.path.join(files_dir, \"unet-aug.h5\")\n",
    "log_file = os.path.join(files_dir, \"log-aug.csv\")\n",
    "\n"
   ]
  },
  {
   "cell_type": "markdown",
   "id": "3ad2789d",
   "metadata": {},
   "source": [
    "### Creating folder"
   ]
  },
  {
   "cell_type": "code",
   "execution_count": 5,
   "id": "5e850212",
   "metadata": {},
   "outputs": [],
   "source": [
    "def create_dir(path):\n",
    "    if not os.path.exists(path):\n",
    "        os.makedirs(path)"
   ]
  },
  {
   "cell_type": "code",
   "execution_count": 13,
   "id": "79326c55",
   "metadata": {},
   "outputs": [],
   "source": [
    "create_dir(files_dir)"
   ]
  },
  {
   "cell_type": "markdown",
   "id": "f8381fee",
   "metadata": {},
   "source": [
    "### UNET (same code as implementation notebook)\n"
   ]
  },
  {
   "cell_type": "markdown",
   "id": "20be9580",
   "metadata": {},
   "source": [
    "#### Convolutional Block"
   ]
  },
  {
   "cell_type": "code",
   "execution_count": 6,
   "id": "3e468980",
   "metadata": {},
   "outputs": [],
   "source": [
    "def conv_block(inputs, num_filters):\n",
    "    x = Conv2D(num_filters, 3, padding=\"same\")(inputs)\n",
    "    x = BatchNormalization()(x)\n",
    "    x = Activation(\"relu\")(x)\n",
    "\n",
    "    x = Conv2D(num_filters, 3, padding=\"same\")(x)\n",
    "    x = BatchNormalization()(x)\n",
    "    x = Activation(\"relu\")(x)\n",
    "\n",
    "    return x"
   ]
  },
  {
   "cell_type": "markdown",
   "id": "ca8fd00b",
   "metadata": {},
   "source": [
    "#### Encoder Block"
   ]
  },
  {
   "cell_type": "code",
   "execution_count": 7,
   "id": "e62f146c",
   "metadata": {},
   "outputs": [],
   "source": [
    "def encoder_block(inputs, num_filters):\n",
    "    x = conv_block(inputs, num_filters)\n",
    "    p = MaxPool2D((2, 2))(x)\n",
    "    return x, p"
   ]
  },
  {
   "cell_type": "markdown",
   "id": "10f74f09",
   "metadata": {},
   "source": [
    "### Decoder Block"
   ]
  },
  {
   "cell_type": "code",
   "execution_count": 8,
   "id": "d676df1e",
   "metadata": {},
   "outputs": [],
   "source": [
    "def decoder_block(inputs, skip, num_filters):\n",
    "  x = Conv2DTranspose(num_filters, (2, 2), strides=2, padding=\"same\")(inputs)\n",
    "  x = Concatenate()([x, skip])\n",
    "  x = conv_block(x, num_filters)\n",
    "  return x"
   ]
  },
  {
   "cell_type": "markdown",
   "id": "47d8df24",
   "metadata": {},
   "source": [
    "### UNet Model"
   ]
  },
  {
   "cell_type": "code",
   "execution_count": 9,
   "id": "e2ae9764",
   "metadata": {},
   "outputs": [],
   "source": [
    "def build_unet(input_shape):\n",
    "  inputs = Input(input_shape)\n",
    "\n",
    "  # Encoder\n",
    "  s1, p1 = encoder_block(inputs, 64)\n",
    "  s2, p2 = encoder_block(p1, 128)\n",
    "  s3, p3 = encoder_block(p2, 256)\n",
    "  s4, p4 = encoder_block(p3, 512)\n",
    "\n",
    "  # Bridge\n",
    "  b1 = conv_block(p4, 1024)\n",
    "  # print(s1.shape, s2.shape, s3.shape, s4.shape)\n",
    "\n",
    "  #Decoder\n",
    "  d1 = decoder_block(b1, s4, 512)\n",
    "  d2 = decoder_block(d1, s3, 256)\n",
    "  d3 = decoder_block(d2, s2, 128)\n",
    "  d4 = decoder_block(d3, s1, 64)\n",
    "\n",
    "  outputs = Conv2D(1, 1, padding=\"same\", activation=\"sigmoid\")(d4)\n",
    "  # print(outputs.shape)\n",
    "  model = Model(inputs, outputs, name=\"UNET\")\n",
    "  return model"
   ]
  },
  {
   "cell_type": "markdown",
   "id": "132b4cb4",
   "metadata": {},
   "source": [
    "### Dataset Pipeline"
   ]
  },
  {
   "cell_type": "markdown",
   "id": "e3e2bc41",
   "metadata": {},
   "source": [
    "#### Loading the training and validation dataset"
   ]
  },
  {
   "cell_type": "code",
   "execution_count": 10,
   "id": "69c42412",
   "metadata": {},
   "outputs": [],
   "source": [
    "def load_data(path):\n",
    "    train_x = sorted(glob(os.path.join(path, \"train\", \"image\", \"*\")))\n",
    "    train_y = sorted(glob(os.path.join(path, \"train\", \"mask\", \"*\")))\n",
    "    \n",
    "    valid_x = sorted(glob(os.path.join(path, \"valid\", \"image\", \"*\")))\n",
    "    valid_y = sorted(glob(os.path.join(path, \"valid\", \"mask\", \"*\")))\n",
    "    return (train_x, train_y), (valid_x, valid_y)"
   ]
  },
  {
   "cell_type": "markdown",
   "id": "25d40dc4",
   "metadata": {},
   "source": [
    "#### Reading the images"
   ]
  },
  {
   "cell_type": "code",
   "execution_count": 11,
   "id": "b390616c",
   "metadata": {},
   "outputs": [],
   "source": [
    "def read_image(path):\n",
    "    path = path.decode()\n",
    "    x = cv2.imread(path, cv2.IMREAD_COLOR)\n",
    "    x = x/255.0\n",
    "    return x"
   ]
  },
  {
   "cell_type": "markdown",
   "id": "c77ce6bc",
   "metadata": {},
   "source": [
    "#### Reading the masks"
   ]
  },
  {
   "cell_type": "code",
   "execution_count": 12,
   "id": "d8bb120b",
   "metadata": {},
   "outputs": [],
   "source": [
    "def read_mask(path):\n",
    "    path = path.decode()\n",
    "    x = cv2.imread(path, cv2.IMREAD_GRAYSCALE)\n",
    "    x = x/255.0\n",
    "    x = np.expand_dims(x, axis=-1)\n",
    "    return x\n"
   ]
  },
  {
   "cell_type": "markdown",
   "id": "596bc328",
   "metadata": {},
   "source": [
    "#### tf.data pipeline"
   ]
  },
  {
   "cell_type": "code",
   "execution_count": 13,
   "id": "590b9498",
   "metadata": {},
   "outputs": [],
   "source": [
    "def tf_parse(x, y):\n",
    "    def _parse(x, y):\n",
    "        x = read_image(x)\n",
    "        y = read_mask(y)\n",
    "        return x, y\n",
    "\n",
    "    x, y = tf.numpy_function(_parse, [x, y], [tf.float64, tf.float64])\n",
    "    x.set_shape([height, width, 3])\n",
    "    y.set_shape([height, width, 1])\n",
    "    return x, y"
   ]
  },
  {
   "cell_type": "code",
   "execution_count": 14,
   "id": "a5e022b6",
   "metadata": {},
   "outputs": [],
   "source": [
    "def tf_dataset(x, y, batch=8):\n",
    "    dataset = tf.data.Dataset.from_tensor_slices((x, y))\n",
    "    dataset = dataset.map(tf_parse, num_parallel_calls=tf.data.AUTOTUNE)\n",
    "    dataset = dataset.batch(batch)\n",
    "    dataset = dataset.prefetch(tf.data.AUTOTUNE)\n",
    "    return dataset\n"
   ]
  },
  {
   "cell_type": "markdown",
   "id": "f3e6feed",
   "metadata": {},
   "source": [
    "### Training"
   ]
  },
  {
   "cell_type": "code",
   "execution_count": 15,
   "id": "c27376ff",
   "metadata": {},
   "outputs": [
    {
     "name": "stdout",
     "output_type": "stream",
     "text": [
      "Train: 0 - 0\n",
      "Valid: 0 - 0\n"
     ]
    }
   ],
   "source": [
    "(train_x, train_y), (valid_x, valid_y) = load_data(dataset_path)\n",
    "\n",
    "print(f\"Train: {len(train_x)} - {len(train_y)}\")\n",
    "print(f\"Valid: {len(valid_x)} - {len(valid_y)}\")"
   ]
  },
  {
   "cell_type": "code",
   "execution_count": 16,
   "id": "379d3613",
   "metadata": {},
   "outputs": [],
   "source": [
    "train_dataset = tf_dataset(train_x, train_y, batch=batch_size)\n",
    "valid_dataset = tf_dataset(valid_x, valid_y, batch=batch_size)"
   ]
  },
  {
   "cell_type": "code",
   "execution_count": 17,
   "id": "238f9272",
   "metadata": {},
   "outputs": [
    {
     "name": "stderr",
     "output_type": "stream",
     "text": [
      "2025-01-21 17:44:28.909534: I tensorflow/core/framework/local_rendezvous.cc:404] Local rendezvous is aborting with status: OUT_OF_RANGE: End of sequence\n"
     ]
    }
   ],
   "source": [
    "for x, y in valid_dataset:\n",
    "    print(x.shape, y.shape)"
   ]
  },
  {
   "cell_type": "code",
   "execution_count": 18,
   "id": "55233840",
   "metadata": {},
   "outputs": [
    {
     "ename": "NameError",
     "evalue": "name 'Input' is not defined",
     "output_type": "error",
     "traceback": [
      "\u001b[0;31m---------------------------------------------------------------------------\u001b[0m",
      "\u001b[0;31mNameError\u001b[0m                                 Traceback (most recent call last)",
      "Cell \u001b[0;32mIn[18], line 2\u001b[0m\n\u001b[1;32m      1\u001b[0m input_shape \u001b[38;5;241m=\u001b[39m (height, width, \u001b[38;5;241m3\u001b[39m)\n\u001b[0;32m----> 2\u001b[0m model \u001b[38;5;241m=\u001b[39m build_unet(input_shape)\n",
      "Cell \u001b[0;32mIn[9], line 2\u001b[0m, in \u001b[0;36mbuild_unet\u001b[0;34m(input_shape)\u001b[0m\n\u001b[1;32m      1\u001b[0m \u001b[38;5;28;01mdef\u001b[39;00m \u001b[38;5;21mbuild_unet\u001b[39m(input_shape):\n\u001b[0;32m----> 2\u001b[0m   inputs \u001b[38;5;241m=\u001b[39m Input(input_shape)\n\u001b[1;32m      4\u001b[0m   \u001b[38;5;66;03m# Encoder\u001b[39;00m\n\u001b[1;32m      5\u001b[0m   s1, p1 \u001b[38;5;241m=\u001b[39m encoder_block(inputs, \u001b[38;5;241m64\u001b[39m)\n",
      "\u001b[0;31mNameError\u001b[0m: name 'Input' is not defined"
     ]
    }
   ],
   "source": [
    "input_shape = (height, width, 3)\n",
    "model = build_unet(input_shape)"
   ]
  },
  {
   "cell_type": "code",
   "execution_count": null,
   "id": "ad4f1f44",
   "metadata": {},
   "outputs": [],
   "source": [
    "model.summary()"
   ]
  },
  {
   "cell_type": "code",
   "execution_count": null,
   "id": "de205185",
   "metadata": {},
   "outputs": [],
   "source": [
    "opt = tf.keras.optimizers.Adam(lr)\n",
    "model.compile(loss=\"binary_crossentropy\", optimizer=opt, metrics=[\"acc\"])"
   ]
  },
  {
   "cell_type": "code",
   "execution_count": null,
   "id": "7e1a79fe",
   "metadata": {},
   "outputs": [],
   "source": [
    "callbacks = [\n",
    "    ModelCheckpoint(model_file, verbose=1, save_best_only=True),\n",
    "    ReduceLROnPlateau(monitor=\"val_loss\", factor=0.1, patience=4),\n",
    "    CSVLogger(log_file),\n",
    "    EarlyStopping(monitor=\"val_loss\", patience=20, restore_best_weights=False),\n",
    "]\n",
    "\n",
    "model.fit(train_dataset,\n",
    "          validation_data=valid_dataset,\n",
    "          epochs=epochs,\n",
    "          callbacks=callbacks)"
   ]
  },
  {
   "cell_type": "code",
   "execution_count": null,
   "id": "9ae6379b",
   "metadata": {},
   "outputs": [],
   "source": [
    "model.fit(\n",
    "    train_dataset,\n",
    "    validation_data=valid_dataset,\n",
    "    epochs=epochs,\n",
    "    callbacks=callbacks\n",
    ")"
   ]
  }
 ],
 "metadata": {
  "kernelspec": {
   "display_name": "Python 3 (ipykernel)",
   "language": "python",
   "name": "python3"
  },
  "language_info": {
   "codemirror_mode": {
    "name": "ipython",
    "version": 3
   },
   "file_extension": ".py",
   "mimetype": "text/x-python",
   "name": "python",
   "nbconvert_exporter": "python",
   "pygments_lexer": "ipython3",
   "version": "3.12.2"
  }
 },
 "nbformat": 4,
 "nbformat_minor": 5
}
