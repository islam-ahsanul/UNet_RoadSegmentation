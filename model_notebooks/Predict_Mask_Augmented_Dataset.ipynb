{
 "cells": [
  {
   "cell_type": "markdown",
   "id": "ee8ce154",
   "metadata": {},
   "source": [
    "### Predicting Mask on Augmented Dataset\n",
    "\n",
    "1. Load Model\n",
    "2. Load Test Dataset - Images\n",
    "3. Predict Mask\n",
    "4. Calculate FPS"
   ]
  },
  {
   "cell_type": "code",
   "execution_count": 2,
   "id": "fa1c5f7a",
   "metadata": {},
   "outputs": [],
   "source": [
    "import os\n",
    "import time\n",
    "import numpy as np\n",
    "import cv2\n",
    "from glob import glob\n",
    "from tqdm import tqdm\n",
    "import tensorflow as tf"
   ]
  },
  {
   "cell_type": "markdown",
   "id": "b65207bc",
   "metadata": {},
   "source": [
    "#### Seeding"
   ]
  },
  {
   "cell_type": "code",
   "execution_count": 5,
   "id": "d624ca6e",
   "metadata": {},
   "outputs": [],
   "source": [
    "os.environ[\"PYTHONHASHSEED\"] = str(42)\n",
    "np.random.seed(42)\n",
    "tf.random.set_seed(42)\n"
   ]
  },
  {
   "cell_type": "markdown",
   "id": "85c5caa8",
   "metadata": {},
   "source": [
    "#### Hyperparameters"
   ]
  },
  {
   "cell_type": "code",
   "execution_count": 4,
   "id": "5d8b33bd",
   "metadata": {},
   "outputs": [],
   "source": [
    "height = 768\n",
    "width = 512"
   ]
  },
  {
   "cell_type": "markdown",
   "id": "edec4ff5",
   "metadata": {},
   "source": [
    "#### Path"
   ]
  },
  {
   "cell_type": "code",
   "execution_count": null,
   "id": "c09a3eb2",
   "metadata": {},
   "outputs": [],
   "source": [
    "dataset_path = \"/home/ahsan/University/Thesis/UNet_Directory/UNet_RoadSegmentation/Dataset/Original_Dataset\"\n",
    "save_path = \"/home/ahsan/University/Thesis/UNet_Directory/UNet_RoadSegmentation/Dataset/Augmented_Dataset/Predicted_Masks\"\n",
    "model_path = \"/home/ahsan/University/Thesis/UNet_Directory/UNet_RoadSegmentation/Model/UNet_RoadSegmentation_Model.keras\" # give augmented model path\n",
    "\n",
    "# Need to fix the paths"
   ]
  },
  {
   "cell_type": "markdown",
   "id": "cd5832a9",
   "metadata": {},
   "source": [
    "#### Create Folder"
   ]
  },
  {
   "cell_type": "code",
   "execution_count": null,
   "id": "89269d04",
   "metadata": {},
   "outputs": [],
   "source": [
    "def create_dir(path):\n",
    "    if not os.path.exists(path):\n",
    "        os.makedirs(path)"
   ]
  },
  {
   "cell_type": "markdown",
   "id": "36335f18",
   "metadata": {},
   "source": [
    "#### Folder to save the predicted masks"
   ]
  },
  {
   "cell_type": "code",
   "execution_count": null,
   "id": "22eb3005",
   "metadata": {},
   "outputs": [],
   "source": [
    "create_dir(save_path)"
   ]
  },
  {
   "cell_type": "markdown",
   "id": "396d13d9",
   "metadata": {},
   "source": [
    "#### Load Model"
   ]
  },
  {
   "cell_type": "code",
   "execution_count": null,
   "id": "d593a913",
   "metadata": {},
   "outputs": [],
   "source": [
    "model = tf.keras.models.load_model(model_path)"
   ]
  },
  {
   "cell_type": "code",
   "execution_count": null,
   "id": "6bcfb16d",
   "metadata": {},
   "outputs": [],
   "source": [
    "model.summary()"
   ]
  },
  {
   "cell_type": "markdown",
   "id": "8f2006b3",
   "metadata": {},
   "source": [
    "#### Load Test Dataset: Images"
   ]
  },
  {
   "cell_type": "code",
   "execution_count": null,
   "id": "e5f25273",
   "metadata": {},
   "outputs": [],
   "source": [
    "test_x = sorted(glob(os.path.join(dataset_path, \"Images\", \"*\")))\n",
    "\n",
    "print(f\"Total test images: {len(test_x)}\")"
   ]
  },
  {
   "cell_type": "code",
   "execution_count": null,
   "id": "b77c400e",
   "metadata": {},
   "outputs": [],
   "source": [
    "test_x[0]"
   ]
  },
  {
   "cell_type": "markdown",
   "id": "34ba4794",
   "metadata": {},
   "source": [
    "#### Predict the mask and calculate FPS"
   ]
  },
  {
   "cell_type": "code",
   "execution_count": null,
   "id": "6ac51573",
   "metadata": {},
   "outputs": [],
   "source": [
    "time_taken = []\n",
    "\n",
    "for x in tqdm(test_x):\n",
    "    name = x.split(\"/\")[-1]\n",
    "    \n",
    "    x = cv2.imread(x, cv2.IMREAD_COLOR)\n",
    "    x = x / 255.0\n",
    "    \n",
    "    start_time = time.time()\n",
    "    p = model.predict(x)[0]\n",
    "    \n",
    "    total_time = time.time() - start_time\n",
    "    time_taken.append(total_time)\n",
    "    \n",
    "    p = p > 0.5\n",
    "    p = p * 255\n",
    "    \n",
    "    cv2.imwrite(os.path.join(save_path, name), p)\n",
    "    \n"
   ]
  },
  {
   "cell_type": "code",
   "execution_count": null,
   "id": "d22dc420",
   "metadata": {},
   "outputs": [],
   "source": [
    "mean_time = np.mean(time_taken)\n",
    "mean_fps = 1 / mean_time"
   ]
  },
  {
   "cell_type": "code",
   "execution_count": null,
   "id": "c8921b41",
   "metadata": {},
   "outputs": [],
   "source": [
    "print(f\"Mean time taken: {mean_time} seconds\")\n",
    "print(f\"Mean FPS: {mean_fps}\")"
   ]
  }
 ],
 "metadata": {
  "kernelspec": {
   "display_name": "base",
   "language": "python",
   "name": "python3"
  },
  "language_info": {
   "codemirror_mode": {
    "name": "ipython",
    "version": 3
   },
   "file_extension": ".py",
   "mimetype": "text/x-python",
   "name": "python",
   "nbconvert_exporter": "python",
   "pygments_lexer": "ipython3",
   "version": "3.12.2"
  }
 },
 "nbformat": 4,
 "nbformat_minor": 5
}
